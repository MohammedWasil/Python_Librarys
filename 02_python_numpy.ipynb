{
 "cells": [
  {
   "cell_type": "code",
   "execution_count": 3,
   "id": "116456e4-ba68-45f5-b58d-bd1ba6585e5c",
   "metadata": {},
   "outputs": [],
   "source": [
    "import numpy as np"
   ]
  },
  {
   "cell_type": "code",
   "execution_count": 4,
   "id": "321d4be2-2c9f-465a-95f9-0792ad1687fa",
   "metadata": {},
   "outputs": [],
   "source": [
    "l = [1,2,3,4]"
   ]
  },
  {
   "cell_type": "code",
   "execution_count": 5,
   "id": "a6ece515-1c08-43d4-b0d3-5736753014f8",
   "metadata": {},
   "outputs": [],
   "source": [
    "arr = np.array(l)"
   ]
  },
  {
   "cell_type": "code",
   "execution_count": 6,
   "id": "cb317f7c-4686-426f-9e78-d59f68b01028",
   "metadata": {},
   "outputs": [
    {
     "data": {
      "text/plain": [
       "numpy.ndarray"
      ]
     },
     "execution_count": 6,
     "metadata": {},
     "output_type": "execute_result"
    }
   ],
   "source": [
    "type(arr)"
   ]
  },
  {
   "cell_type": "code",
   "execution_count": 7,
   "id": "52a43cc8-5149-4335-9f93-67599a85d8b2",
   "metadata": {},
   "outputs": [
    {
     "data": {
      "text/plain": [
       "array([[1, 2],\n",
       "       [3, 4]])"
      ]
     },
     "execution_count": 7,
     "metadata": {},
     "output_type": "execute_result"
    }
   ],
   "source": [
    "np.array([[1,2], [3,4]])"
   ]
  },
  {
   "cell_type": "code",
   "execution_count": 8,
   "id": "bcf25742-793c-4874-b5a1-f1d16c328d6e",
   "metadata": {},
   "outputs": [
    {
     "data": {
      "text/plain": [
       "array([1, 2, 3, 4])"
      ]
     },
     "execution_count": 8,
     "metadata": {},
     "output_type": "execute_result"
    }
   ],
   "source": [
    "np.asarray(l)"
   ]
  },
  {
   "cell_type": "code",
   "execution_count": 9,
   "id": "275245bc-b3b3-4cc5-adbc-59f2d046f7dc",
   "metadata": {},
   "outputs": [],
   "source": [
    "a = [2,3,4]"
   ]
  },
  {
   "cell_type": "code",
   "execution_count": 10,
   "id": "8fdfc191-82ee-49fa-b157-2d5139067a27",
   "metadata": {},
   "outputs": [
    {
     "data": {
      "text/plain": [
       "array([2, 3, 4])"
      ]
     },
     "execution_count": 10,
     "metadata": {},
     "output_type": "execute_result"
    }
   ],
   "source": [
    "np.asanyarray(a)"
   ]
  },
  {
   "cell_type": "code",
   "execution_count": 11,
   "id": "12f6fb17-6cc8-4155-be5b-2b8929cec15f",
   "metadata": {},
   "outputs": [],
   "source": [
    "b = np.matrix(l)  # matrix 2 Dimensional hai"
   ]
  },
  {
   "cell_type": "code",
   "execution_count": 12,
   "id": "a638f026-aa75-4903-b965-0b07b840615e",
   "metadata": {},
   "outputs": [
    {
     "data": {
      "text/plain": [
       "matrix([[1, 2, 3, 4]])"
      ]
     },
     "execution_count": 12,
     "metadata": {},
     "output_type": "execute_result"
    }
   ],
   "source": [
    "b"
   ]
  },
  {
   "cell_type": "code",
   "execution_count": 13,
   "id": "9d1405d8-0fd9-4269-ac4f-43ff16a636eb",
   "metadata": {},
   "outputs": [
    {
     "data": {
      "text/plain": [
       "matrix([[1, 2, 3, 4]])"
      ]
     },
     "execution_count": 13,
     "metadata": {},
     "output_type": "execute_result"
    }
   ],
   "source": [
    "np.asanyarray(b)  # l not convert in array"
   ]
  },
  {
   "cell_type": "code",
   "execution_count": 14,
   "id": "b1ad5316-0789-4433-aeaf-acd5b877aed8",
   "metadata": {},
   "outputs": [],
   "source": [
    "a = np.array(l)"
   ]
  },
  {
   "cell_type": "code",
   "execution_count": 15,
   "id": "7b2a7866-429e-47fb-890b-bf0f3b723075",
   "metadata": {},
   "outputs": [],
   "source": [
    "c = a # shallow copy"
   ]
  },
  {
   "cell_type": "code",
   "execution_count": 16,
   "id": "166b8a10-317f-41e3-bbf2-4bc2b5b3207a",
   "metadata": {},
   "outputs": [
    {
     "data": {
      "text/plain": [
       "array([1, 2, 3, 4])"
      ]
     },
     "execution_count": 16,
     "metadata": {},
     "output_type": "execute_result"
    }
   ],
   "source": [
    "c"
   ]
  },
  {
   "cell_type": "code",
   "execution_count": 17,
   "id": "044f07d4-6237-479f-8a1e-f08517229073",
   "metadata": {},
   "outputs": [],
   "source": [
    "c[0] = 100"
   ]
  },
  {
   "cell_type": "code",
   "execution_count": 18,
   "id": "8c0cc791-e950-4189-8c36-b7a15f298192",
   "metadata": {},
   "outputs": [
    {
     "data": {
      "text/plain": [
       "array([100,   2,   3,   4])"
      ]
     },
     "execution_count": 18,
     "metadata": {},
     "output_type": "execute_result"
    }
   ],
   "source": [
    "c"
   ]
  },
  {
   "cell_type": "code",
   "execution_count": 19,
   "id": "7705f89d-d174-4464-ad75-ad9245c425be",
   "metadata": {},
   "outputs": [
    {
     "data": {
      "text/plain": [
       "array([100,   2,   3,   4])"
      ]
     },
     "execution_count": 19,
     "metadata": {},
     "output_type": "execute_result"
    }
   ],
   "source": [
    "a"
   ]
  },
  {
   "cell_type": "code",
   "execution_count": 20,
   "id": "f498a64f-7b74-451f-b7d7-391034577724",
   "metadata": {},
   "outputs": [],
   "source": [
    "d = np.copy(a) #deep copy"
   ]
  },
  {
   "cell_type": "code",
   "execution_count": 21,
   "id": "2de191bb-b40d-4dee-9a41-eac39865ba7d",
   "metadata": {},
   "outputs": [
    {
     "data": {
      "text/plain": [
       "array([100,   2,   3,   4])"
      ]
     },
     "execution_count": 21,
     "metadata": {},
     "output_type": "execute_result"
    }
   ],
   "source": [
    "d"
   ]
  },
  {
   "cell_type": "code",
   "execution_count": 22,
   "id": "cb5e82d0-2253-4e79-a038-adf9a65e0563",
   "metadata": {},
   "outputs": [
    {
     "data": {
      "text/plain": [
       "array([100,   2,   3,   4])"
      ]
     },
     "execution_count": 22,
     "metadata": {},
     "output_type": "execute_result"
    }
   ],
   "source": [
    "a"
   ]
  },
  {
   "cell_type": "code",
   "execution_count": 23,
   "id": "3f542925-428a-4913-9f56-73f408479133",
   "metadata": {},
   "outputs": [],
   "source": [
    "a [1] = 400"
   ]
  },
  {
   "cell_type": "code",
   "execution_count": 24,
   "id": "bd19d2c9-071f-482b-8e8c-08a347577435",
   "metadata": {},
   "outputs": [
    {
     "data": {
      "text/plain": [
       "array([100, 400,   3,   4])"
      ]
     },
     "execution_count": 24,
     "metadata": {},
     "output_type": "execute_result"
    }
   ],
   "source": [
    "a"
   ]
  },
  {
   "cell_type": "code",
   "execution_count": 25,
   "id": "a21dde54-f1b6-43d7-8c94-e6e73b4d6909",
   "metadata": {},
   "outputs": [
    {
     "data": {
      "text/plain": [
       "array([100,   2,   3,   4])"
      ]
     },
     "execution_count": 25,
     "metadata": {},
     "output_type": "execute_result"
    }
   ],
   "source": [
    "d"
   ]
  },
  {
   "cell_type": "code",
   "execution_count": 26,
   "id": "c555a397-26af-4bfa-b5b3-0fddeb57ed4f",
   "metadata": {},
   "outputs": [
    {
     "data": {
      "text/plain": [
       "array([[ True, False, False],\n",
       "       [False,  True, False],\n",
       "       [False, False,  True]])"
      ]
     },
     "execution_count": 26,
     "metadata": {},
     "output_type": "execute_result"
    }
   ],
   "source": [
    "np.fromfunction(lambda i,j : i==j, (3,3))"
   ]
  },
  {
   "cell_type": "code",
   "execution_count": 27,
   "id": "6372221f-4505-452c-af7e-6d14e867cf0b",
   "metadata": {},
   "outputs": [
    {
     "data": {
      "text/plain": [
       "array([[0., 0., 0.],\n",
       "       [0., 1., 2.],\n",
       "       [0., 2., 4.]])"
      ]
     },
     "execution_count": 27,
     "metadata": {},
     "output_type": "execute_result"
    }
   ],
   "source": [
    "np.fromfunction(lambda i,j : i*j, (3,3))"
   ]
  },
  {
   "cell_type": "code",
   "execution_count": 28,
   "id": "ef09b19f-270d-470f-8850-1949a5897e55",
   "metadata": {},
   "outputs": [],
   "source": [
    "iterable = (i*i for i in range(5))"
   ]
  },
  {
   "cell_type": "code",
   "execution_count": 29,
   "id": "544701a0-cdfa-4b6b-919c-3b65c6fa8823",
   "metadata": {},
   "outputs": [
    {
     "data": {
      "text/plain": [
       "array([ 0.,  1.,  4.,  9., 16.])"
      ]
     },
     "execution_count": 29,
     "metadata": {},
     "output_type": "execute_result"
    }
   ],
   "source": [
    "np.fromiter(iterable, float)"
   ]
  },
  {
   "cell_type": "code",
   "execution_count": 30,
   "id": "fad57d5c-5194-49ff-abd1-aab7729e6b88",
   "metadata": {},
   "outputs": [
    {
     "data": {
      "text/plain": [
       "array([234., 343.])"
      ]
     },
     "execution_count": 30,
     "metadata": {},
     "output_type": "execute_result"
    }
   ],
   "source": [
    "np.fromstring(\"234 343\", sep= ' ')"
   ]
  },
  {
   "cell_type": "code",
   "execution_count": 31,
   "id": "9e2bbff8-160d-4fbb-a133-5657920e4b6a",
   "metadata": {},
   "outputs": [
    {
     "data": {
      "text/plain": [
       "array([2., 3.])"
      ]
     },
     "execution_count": 31,
     "metadata": {},
     "output_type": "execute_result"
    }
   ],
   "source": [
    "np.fromstring(\"2,3\", sep= ',')"
   ]
  },
  {
   "cell_type": "markdown",
   "id": "90658dd8-7e48-4e9d-a8f6-893ac67581f6",
   "metadata": {},
   "source": [
    "numpy -> data types\n"
   ]
  },
  {
   "cell_type": "code",
   "execution_count": 33,
   "id": "4f51b701-f8c3-46aa-b7ab-b330ff1782da",
   "metadata": {},
   "outputs": [],
   "source": [
    "l = [1,2,3,4,5]"
   ]
  },
  {
   "cell_type": "code",
   "execution_count": 34,
   "id": "983f50ce-48bd-432f-b4f0-16f7d63132a8",
   "metadata": {},
   "outputs": [],
   "source": [
    "arr = np.array(l)"
   ]
  },
  {
   "cell_type": "code",
   "execution_count": 35,
   "id": "ea3c2755-cb50-43d1-ac54-2016a79e387d",
   "metadata": {},
   "outputs": [
    {
     "data": {
      "text/plain": [
       "array([1, 2, 3, 4, 5])"
      ]
     },
     "execution_count": 35,
     "metadata": {},
     "output_type": "execute_result"
    }
   ],
   "source": [
    "arr"
   ]
  },
  {
   "cell_type": "code",
   "execution_count": 36,
   "id": "7ca631f8-a094-4bd0-a662-3e7c5b05f7c1",
   "metadata": {},
   "outputs": [
    {
     "data": {
      "text/plain": [
       "1"
      ]
     },
     "execution_count": 36,
     "metadata": {},
     "output_type": "execute_result"
    }
   ],
   "source": [
    "arr.ndim"
   ]
  },
  {
   "cell_type": "code",
   "execution_count": 37,
   "id": "d0fdb948-86d8-432f-8e02-f5ee559fbef0",
   "metadata": {},
   "outputs": [],
   "source": [
    "arr2 = np.array([[1,2,3,4], [5,7,8,9]])"
   ]
  },
  {
   "cell_type": "code",
   "execution_count": 38,
   "id": "6c2360c2-3de4-4194-ae69-588f61f3f884",
   "metadata": {},
   "outputs": [
    {
     "data": {
      "text/plain": [
       "array([[1, 2, 3, 4],\n",
       "       [5, 7, 8, 9]])"
      ]
     },
     "execution_count": 38,
     "metadata": {},
     "output_type": "execute_result"
    }
   ],
   "source": [
    "arr2"
   ]
  },
  {
   "cell_type": "code",
   "execution_count": 39,
   "id": "fead0433-5308-4a3e-8ee8-e40a4dd34b88",
   "metadata": {},
   "outputs": [
    {
     "data": {
      "text/plain": [
       "2"
      ]
     },
     "execution_count": 39,
     "metadata": {},
     "output_type": "execute_result"
    }
   ],
   "source": [
    "arr2.ndim"
   ]
  },
  {
   "cell_type": "code",
   "execution_count": 40,
   "id": "ec4904fc-2672-4e8a-b7b9-a676f40c13f7",
   "metadata": {},
   "outputs": [
    {
     "data": {
      "text/plain": [
       "5"
      ]
     },
     "execution_count": 40,
     "metadata": {},
     "output_type": "execute_result"
    }
   ],
   "source": [
    "arr.size"
   ]
  },
  {
   "cell_type": "code",
   "execution_count": 41,
   "id": "7c1801ec-59d3-4072-ab49-fb760b9b63a2",
   "metadata": {},
   "outputs": [
    {
     "data": {
      "text/plain": [
       "array([1, 2, 3, 4, 5])"
      ]
     },
     "execution_count": 41,
     "metadata": {},
     "output_type": "execute_result"
    }
   ],
   "source": [
    "arr"
   ]
  },
  {
   "cell_type": "code",
   "execution_count": 42,
   "id": "7170484a-cdd7-4320-942d-85d016fa02ed",
   "metadata": {},
   "outputs": [
    {
     "data": {
      "text/plain": [
       "array([[1, 2, 3, 4],\n",
       "       [5, 7, 8, 9]])"
      ]
     },
     "execution_count": 42,
     "metadata": {},
     "output_type": "execute_result"
    }
   ],
   "source": [
    "arr2"
   ]
  },
  {
   "cell_type": "code",
   "execution_count": 43,
   "id": "faeb040b-7d8e-48f5-917a-0a8b12612ab1",
   "metadata": {},
   "outputs": [
    {
     "data": {
      "text/plain": [
       "(5,)"
      ]
     },
     "execution_count": 43,
     "metadata": {},
     "output_type": "execute_result"
    }
   ],
   "source": [
    "arr.shape"
   ]
  },
  {
   "cell_type": "code",
   "execution_count": 44,
   "id": "3c67b8df-2ef5-4866-b1b8-ebf0e53d3c55",
   "metadata": {},
   "outputs": [
    {
     "data": {
      "text/plain": [
       "(2, 4)"
      ]
     },
     "execution_count": 44,
     "metadata": {},
     "output_type": "execute_result"
    }
   ],
   "source": [
    "arr2.shape"
   ]
  },
  {
   "cell_type": "code",
   "execution_count": 45,
   "id": "80c81434-b717-4bcc-bdd4-86b6d72338af",
   "metadata": {},
   "outputs": [
    {
     "data": {
      "text/plain": [
       "dtype('int32')"
      ]
     },
     "execution_count": 45,
     "metadata": {},
     "output_type": "execute_result"
    }
   ],
   "source": [
    "arr.dtype"
   ]
  },
  {
   "cell_type": "code",
   "execution_count": 46,
   "id": "eba9c367-1ab6-4dba-9ea2-0f5b64cfd33e",
   "metadata": {},
   "outputs": [
    {
     "data": {
      "text/plain": [
       "dtype('int32')"
      ]
     },
     "execution_count": 46,
     "metadata": {},
     "output_type": "execute_result"
    }
   ],
   "source": [
    "arr2.dtype"
   ]
  },
  {
   "cell_type": "code",
   "execution_count": 47,
   "id": "4c1c37c9-3fd0-4e93-991c-266e95a4575a",
   "metadata": {},
   "outputs": [],
   "source": [
    "arr22 = np.array([(1.3,45,45), (45,34,56)])"
   ]
  },
  {
   "cell_type": "code",
   "execution_count": 48,
   "id": "c33a7628-c126-41b2-bfe2-6f935a5767d3",
   "metadata": {},
   "outputs": [
    {
     "data": {
      "text/plain": [
       "array([[ 1.3, 45. , 45. ],\n",
       "       [45. , 34. , 56. ]])"
      ]
     },
     "execution_count": 48,
     "metadata": {},
     "output_type": "execute_result"
    }
   ],
   "source": [
    "arr22"
   ]
  },
  {
   "cell_type": "code",
   "execution_count": 49,
   "id": "6c5dd272-fa33-4d20-8d43-499e0f495aa8",
   "metadata": {},
   "outputs": [
    {
     "data": {
      "text/plain": [
       "dtype('float64')"
      ]
     },
     "execution_count": 49,
     "metadata": {},
     "output_type": "execute_result"
    }
   ],
   "source": [
    "arr22.dtype"
   ]
  },
  {
   "cell_type": "code",
   "execution_count": 50,
   "id": "449ea050-3e8b-4152-9645-08499445bfc5",
   "metadata": {},
   "outputs": [
    {
     "data": {
      "text/plain": [
       "[0, 1, 2, 3, 4]"
      ]
     },
     "execution_count": 50,
     "metadata": {},
     "output_type": "execute_result"
    }
   ],
   "source": [
    "list(range(5))"
   ]
  },
  {
   "cell_type": "code",
   "execution_count": 51,
   "id": "24ebd4e6-71ef-4f95-b3ea-1a715a5f1172",
   "metadata": {},
   "outputs": [
    {
     "ename": "SyntaxError",
     "evalue": "leading zeros in decimal integer literals are not permitted; use an 0o prefix for octal integers (2313710390.py, line 1)",
     "output_type": "error",
     "traceback": [
      "\u001b[1;36m  Cell \u001b[1;32mIn[51], line 1\u001b[1;36m\u001b[0m\n\u001b[1;33m    list(range(01,5))\u001b[0m\n\u001b[1;37m               ^\u001b[0m\n\u001b[1;31mSyntaxError\u001b[0m\u001b[1;31m:\u001b[0m leading zeros in decimal integer literals are not permitted; use an 0o prefix for octal integers\n"
     ]
    }
   ],
   "source": [
    "list(range(01,5))"
   ]
  },
  {
   "cell_type": "code",
   "execution_count": 52,
   "id": "b4c25b34-5d1f-4d91-a1d2-a43b9c9a61f6",
   "metadata": {},
   "outputs": [
    {
     "data": {
      "text/plain": [
       "array([2.3, 3.3, 4.3, 5.3])"
      ]
     },
     "execution_count": 52,
     "metadata": {},
     "output_type": "execute_result"
    }
   ],
   "source": [
    "np.arange(2.3,5.6)"
   ]
  },
  {
   "cell_type": "code",
   "execution_count": 53,
   "id": "eb0ef28d-2902-40c7-b263-b2ee6d4da4fa",
   "metadata": {},
   "outputs": [
    {
     "data": {
      "text/plain": [
       "[2.3,\n",
       " 2.5999999999999996,\n",
       " 2.8999999999999995,\n",
       " 3.1999999999999993,\n",
       " 3.499999999999999,\n",
       " 3.799999999999999,\n",
       " 4.099999999999999,\n",
       " 4.399999999999999,\n",
       " 4.699999999999998,\n",
       " 4.999999999999998,\n",
       " 5.299999999999998]"
      ]
     },
     "execution_count": 53,
     "metadata": {},
     "output_type": "execute_result"
    }
   ],
   "source": [
    "list(np.arange(2.3,5.6,.3))"
   ]
  },
  {
   "cell_type": "code",
   "execution_count": 54,
   "id": "e1bad7b0-35e5-4d7b-9bf2-1181a5703ed6",
   "metadata": {},
   "outputs": [
    {
     "data": {
      "text/plain": [
       "array([1.        , 1.44444444, 1.88888889, 2.33333333, 2.77777778,\n",
       "       3.22222222, 3.66666667, 4.11111111, 4.55555556, 5.        ])"
      ]
     },
     "execution_count": 54,
     "metadata": {},
     "output_type": "execute_result"
    }
   ],
   "source": [
    "np.linspace(1,5,10)"
   ]
  },
  {
   "cell_type": "code",
   "execution_count": 55,
   "id": "d8554a12-f8a9-4b9c-be12-b2031327fe1e",
   "metadata": {},
   "outputs": [
    {
     "data": {
      "text/plain": [
       "array([0., 0., 0., 0., 0.])"
      ]
     },
     "execution_count": 55,
     "metadata": {},
     "output_type": "execute_result"
    }
   ],
   "source": [
    "np.zeros(5)"
   ]
  },
  {
   "cell_type": "code",
   "execution_count": 56,
   "id": "742d0c5e-65d1-4788-8b03-85beff088ff0",
   "metadata": {},
   "outputs": [
    {
     "data": {
      "text/plain": [
       "array([[0., 0., 0., 0.],\n",
       "       [0., 0., 0., 0.],\n",
       "       [0., 0., 0., 0.]])"
      ]
     },
     "execution_count": 56,
     "metadata": {},
     "output_type": "execute_result"
    }
   ],
   "source": [
    "np.zeros((3,4))"
   ]
  },
  {
   "cell_type": "code",
   "execution_count": 57,
   "id": "cb4caa9f-6bbc-4db1-ba89-ed4166ae88b7",
   "metadata": {},
   "outputs": [
    {
     "data": {
      "text/plain": [
       "array([[[0., 0.],\n",
       "        [0., 0.],\n",
       "        [0., 0.],\n",
       "        [0., 0.]],\n",
       "\n",
       "       [[0., 0.],\n",
       "        [0., 0.],\n",
       "        [0., 0.],\n",
       "        [0., 0.]],\n",
       "\n",
       "       [[0., 0.],\n",
       "        [0., 0.],\n",
       "        [0., 0.],\n",
       "        [0., 0.]]])"
      ]
     },
     "execution_count": 57,
     "metadata": {},
     "output_type": "execute_result"
    }
   ],
   "source": [
    "np.zeros((3,4,2))"
   ]
  },
  {
   "cell_type": "code",
   "execution_count": 58,
   "id": "4052410b-d828-48e5-8376-d63d6be357b5",
   "metadata": {},
   "outputs": [],
   "source": [
    "arr3 = np.zeros((3,4,2,3))"
   ]
  },
  {
   "cell_type": "code",
   "execution_count": 59,
   "id": "eea17ad0-4434-40f1-9dab-5f4d9bce8e37",
   "metadata": {},
   "outputs": [
    {
     "data": {
      "text/plain": [
       "4"
      ]
     },
     "execution_count": 59,
     "metadata": {},
     "output_type": "execute_result"
    }
   ],
   "source": [
    "arr3.ndim"
   ]
  },
  {
   "cell_type": "code",
   "execution_count": 60,
   "id": "aa6fb95c-b072-4a1d-9f6b-0aedb2ed8c25",
   "metadata": {},
   "outputs": [
    {
     "data": {
      "text/plain": [
       "array([[[[0., 0., 0.],\n",
       "         [0., 0., 0.]],\n",
       "\n",
       "        [[0., 0., 0.],\n",
       "         [0., 0., 0.]],\n",
       "\n",
       "        [[0., 0., 0.],\n",
       "         [0., 0., 0.]],\n",
       "\n",
       "        [[0., 0., 0.],\n",
       "         [0., 0., 0.]]],\n",
       "\n",
       "\n",
       "       [[[0., 0., 0.],\n",
       "         [0., 0., 0.]],\n",
       "\n",
       "        [[0., 0., 0.],\n",
       "         [0., 0., 0.]],\n",
       "\n",
       "        [[0., 0., 0.],\n",
       "         [0., 0., 0.]],\n",
       "\n",
       "        [[0., 0., 0.],\n",
       "         [0., 0., 0.]]],\n",
       "\n",
       "\n",
       "       [[[0., 0., 0.],\n",
       "         [0., 0., 0.]],\n",
       "\n",
       "        [[0., 0., 0.],\n",
       "         [0., 0., 0.]],\n",
       "\n",
       "        [[0., 0., 0.],\n",
       "         [0., 0., 0.]],\n",
       "\n",
       "        [[0., 0., 0.],\n",
       "         [0., 0., 0.]]]])"
      ]
     },
     "execution_count": 60,
     "metadata": {},
     "output_type": "execute_result"
    }
   ],
   "source": [
    "arr3"
   ]
  },
  {
   "cell_type": "code",
   "execution_count": 61,
   "id": "98b2de41-c503-4d1b-a89d-376f28044348",
   "metadata": {},
   "outputs": [
    {
     "data": {
      "text/plain": [
       "array([1., 1., 1., 1.])"
      ]
     },
     "execution_count": 61,
     "metadata": {},
     "output_type": "execute_result"
    }
   ],
   "source": [
    "np.ones(4)"
   ]
  },
  {
   "cell_type": "code",
   "execution_count": 62,
   "id": "01d5a6dd-3318-486e-b198-10cb58744656",
   "metadata": {},
   "outputs": [
    {
     "data": {
      "text/plain": [
       "array([[1., 1., 1.],\n",
       "       [1., 1., 1.]])"
      ]
     },
     "execution_count": 62,
     "metadata": {},
     "output_type": "execute_result"
    }
   ],
   "source": [
    "np.ones((2,3))"
   ]
  },
  {
   "cell_type": "code",
   "execution_count": 63,
   "id": "5f5d656b-09bc-41f4-82dc-43d4fe4c4bc1",
   "metadata": {},
   "outputs": [],
   "source": [
    "on = np.ones((2,3,2))"
   ]
  },
  {
   "cell_type": "code",
   "execution_count": 64,
   "id": "1b02ebaf-ae78-4bb6-80fa-6b8355fa107b",
   "metadata": {},
   "outputs": [
    {
     "data": {
      "text/plain": [
       "array([[[1., 1.],\n",
       "        [1., 1.],\n",
       "        [1., 1.]],\n",
       "\n",
       "       [[1., 1.],\n",
       "        [1., 1.],\n",
       "        [1., 1.]]])"
      ]
     },
     "execution_count": 64,
     "metadata": {},
     "output_type": "execute_result"
    }
   ],
   "source": [
    "on"
   ]
  },
  {
   "cell_type": "code",
   "execution_count": 65,
   "id": "cc3f8122-0535-4af5-aec1-39f0b6e700c1",
   "metadata": {},
   "outputs": [
    {
     "data": {
      "text/plain": [
       "array([[[6., 6.],\n",
       "        [6., 6.],\n",
       "        [6., 6.]],\n",
       "\n",
       "       [[6., 6.],\n",
       "        [6., 6.],\n",
       "        [6., 6.]]])"
      ]
     },
     "execution_count": 65,
     "metadata": {},
     "output_type": "execute_result"
    }
   ],
   "source": [
    "on + 5"
   ]
  },
  {
   "cell_type": "code",
   "execution_count": 66,
   "id": "508f5c6f-b41b-4bd1-877a-24ae42c56ba2",
   "metadata": {},
   "outputs": [
    {
     "data": {
      "text/plain": [
       "array([[[4., 4.],\n",
       "        [4., 4.],\n",
       "        [4., 4.]],\n",
       "\n",
       "       [[4., 4.],\n",
       "        [4., 4.],\n",
       "        [4., 4.]]])"
      ]
     },
     "execution_count": 66,
     "metadata": {},
     "output_type": "execute_result"
    }
   ],
   "source": [
    "on * 4"
   ]
  },
  {
   "cell_type": "code",
   "execution_count": 67,
   "id": "cce3b8bb-64ee-4874-8331-58441ddb098e",
   "metadata": {},
   "outputs": [
    {
     "data": {
      "text/plain": [
       "array([[0.00000000e+000, 0.00000000e+000, 0.00000000e+000,\n",
       "        0.00000000e+000, 0.00000000e+000],\n",
       "       [0.00000000e+000, 0.00000000e+000, 0.00000000e+000,\n",
       "        0.00000000e+000, 0.00000000e+000],\n",
       "       [0.00000000e+000, 0.00000000e+000, 0.00000000e+000,\n",
       "        0.00000000e+000, 6.81019663e-310]])"
      ]
     },
     "execution_count": 67,
     "metadata": {},
     "output_type": "execute_result"
    }
   ],
   "source": [
    "np.empty((3,5))"
   ]
  },
  {
   "cell_type": "code",
   "execution_count": 68,
   "id": "10cad60f-3835-4586-995c-730ff7001a55",
   "metadata": {},
   "outputs": [
    {
     "data": {
      "text/plain": [
       "array([[1., 0., 0., 0.],\n",
       "       [0., 1., 0., 0.],\n",
       "       [0., 0., 1., 0.],\n",
       "       [0., 0., 0., 1.]])"
      ]
     },
     "execution_count": 68,
     "metadata": {},
     "output_type": "execute_result"
    }
   ],
   "source": [
    "np.eye(4)"
   ]
  },
  {
   "cell_type": "code",
   "execution_count": 69,
   "id": "22071271-f045-49d7-b956-68bbfa0a5e61",
   "metadata": {},
   "outputs": [
    {
     "data": {
      "text/plain": [
       "array([2.        , 2.10526316, 2.21052632, 2.31578947, 2.42105263,\n",
       "       2.52631579, 2.63157895, 2.73684211, 2.84210526, 2.94736842,\n",
       "       3.05263158, 3.15789474, 3.26315789, 3.36842105, 3.47368421,\n",
       "       3.57894737, 3.68421053, 3.78947368, 3.89473684, 4.        ])"
      ]
     },
     "execution_count": 69,
     "metadata": {},
     "output_type": "execute_result"
    }
   ],
   "source": [
    "np.linspace(2,4, 20)"
   ]
  },
  {
   "cell_type": "code",
   "execution_count": 70,
   "id": "9e1f0597-04c4-4308-8387-7aa70f315004",
   "metadata": {},
   "outputs": [
    {
     "data": {
      "text/plain": [
       "array([ 4.        ,  5.0396842 ,  6.34960421,  8.        , 10.0793684 ,\n",
       "       12.69920842, 16.        , 20.1587368 , 25.39841683, 32.        ])"
      ]
     },
     "execution_count": 70,
     "metadata": {},
     "output_type": "execute_result"
    }
   ],
   "source": [
    "np.logspace(2,5,10, base = 2)"
   ]
  },
  {
   "cell_type": "code",
   "execution_count": 71,
   "id": "18b1f74f-21ea-4ae2-a9c8-3e9a2a7e2b71",
   "metadata": {},
   "outputs": [],
   "source": [
    "arr = np.random.randn(3,4)"
   ]
  },
  {
   "cell_type": "code",
   "execution_count": 72,
   "id": "fed3338e-50ba-4f8f-aba1-e8e3cbd96cf3",
   "metadata": {},
   "outputs": [],
   "source": [
    "import pandas as pd"
   ]
  },
  {
   "cell_type": "code",
   "execution_count": 73,
   "id": "040d2206-d5bd-4826-aa24-113fd96b3c60",
   "metadata": {},
   "outputs": [
    {
     "data": {
      "text/html": [
       "<div>\n",
       "<style scoped>\n",
       "    .dataframe tbody tr th:only-of-type {\n",
       "        vertical-align: middle;\n",
       "    }\n",
       "\n",
       "    .dataframe tbody tr th {\n",
       "        vertical-align: top;\n",
       "    }\n",
       "\n",
       "    .dataframe thead th {\n",
       "        text-align: right;\n",
       "    }\n",
       "</style>\n",
       "<table border=\"1\" class=\"dataframe\">\n",
       "  <thead>\n",
       "    <tr style=\"text-align: right;\">\n",
       "      <th></th>\n",
       "      <th>0</th>\n",
       "      <th>1</th>\n",
       "      <th>2</th>\n",
       "      <th>3</th>\n",
       "    </tr>\n",
       "  </thead>\n",
       "  <tbody>\n",
       "    <tr>\n",
       "      <th>0</th>\n",
       "      <td>-0.850808</td>\n",
       "      <td>-0.288782</td>\n",
       "      <td>0.943687</td>\n",
       "      <td>1.528746</td>\n",
       "    </tr>\n",
       "    <tr>\n",
       "      <th>1</th>\n",
       "      <td>-2.338646</td>\n",
       "      <td>-0.334898</td>\n",
       "      <td>-0.090249</td>\n",
       "      <td>0.343723</td>\n",
       "    </tr>\n",
       "    <tr>\n",
       "      <th>2</th>\n",
       "      <td>-1.879048</td>\n",
       "      <td>-0.797507</td>\n",
       "      <td>-0.680651</td>\n",
       "      <td>1.031022</td>\n",
       "    </tr>\n",
       "  </tbody>\n",
       "</table>\n",
       "</div>"
      ],
      "text/plain": [
       "          0         1         2         3\n",
       "0 -0.850808 -0.288782  0.943687  1.528746\n",
       "1 -2.338646 -0.334898 -0.090249  0.343723\n",
       "2 -1.879048 -0.797507 -0.680651  1.031022"
      ]
     },
     "execution_count": 73,
     "metadata": {},
     "output_type": "execute_result"
    }
   ],
   "source": [
    "pd.DataFrame(arr)"
   ]
  },
  {
   "cell_type": "code",
   "execution_count": 74,
   "id": "be97bf2a-8638-4750-a4ee-ed1abfae8ac8",
   "metadata": {},
   "outputs": [
    {
     "data": {
      "text/plain": [
       "array([[0.08919363, 0.47631009, 0.1689415 , 0.4850847 ],\n",
       "       [0.64417769, 0.91973632, 0.24644423, 0.70519504],\n",
       "       [0.03818314, 0.15803081, 0.66042662, 0.72043582]])"
      ]
     },
     "execution_count": 74,
     "metadata": {},
     "output_type": "execute_result"
    }
   ],
   "source": [
    "np.random.rand(3,4)"
   ]
  },
  {
   "cell_type": "code",
   "execution_count": 75,
   "id": "4e6782c3-3fa4-45a7-86e8-29bce98e55a3",
   "metadata": {},
   "outputs": [],
   "source": [
    "pd.DataFrame(np.random.randint(1,110, (300,400))).to_csv('test.csv')"
   ]
  },
  {
   "cell_type": "code",
   "execution_count": 76,
   "id": "e8864109-5737-4c18-963e-5a75f8ae5421",
   "metadata": {},
   "outputs": [],
   "source": [
    "arr = np.random.rand(3,4)"
   ]
  },
  {
   "cell_type": "code",
   "execution_count": 77,
   "id": "f6389e27-c445-4df1-ab0f-1e75dbf24c4e",
   "metadata": {},
   "outputs": [
    {
     "data": {
      "text/plain": [
       "array([[0.49813819, 0.92371342, 0.60248105, 0.73688155],\n",
       "       [0.17946778, 0.05121356, 0.098232  , 0.94541156],\n",
       "       [0.32420482, 0.33774346, 0.11693711, 0.62364086]])"
      ]
     },
     "execution_count": 77,
     "metadata": {},
     "output_type": "execute_result"
    }
   ],
   "source": [
    "arr"
   ]
  },
  {
   "cell_type": "code",
   "execution_count": 78,
   "id": "5f99e6fd-4682-40d0-9e6b-c65e4931421e",
   "metadata": {},
   "outputs": [
    {
     "data": {
      "text/plain": [
       "array([[0.49813819, 0.92371342],\n",
       "       [0.60248105, 0.73688155],\n",
       "       [0.17946778, 0.05121356],\n",
       "       [0.098232  , 0.94541156],\n",
       "       [0.32420482, 0.33774346],\n",
       "       [0.11693711, 0.62364086]])"
      ]
     },
     "execution_count": 78,
     "metadata": {},
     "output_type": "execute_result"
    }
   ],
   "source": [
    "arr.reshape(6,2)"
   ]
  },
  {
   "cell_type": "code",
   "execution_count": 79,
   "id": "70959085-eb2d-4da4-8b69-eb74d4b31884",
   "metadata": {},
   "outputs": [],
   "source": [
    "arr1 = arr.reshape(6,-1)"
   ]
  },
  {
   "cell_type": "code",
   "execution_count": 80,
   "id": "c0e62e99-e38c-439f-9f2a-439d2f46a703",
   "metadata": {},
   "outputs": [
    {
     "data": {
      "text/plain": [
       "0.7368815549011593"
      ]
     },
     "execution_count": 80,
     "metadata": {},
     "output_type": "execute_result"
    }
   ],
   "source": [
    "arr1[1][1]"
   ]
  },
  {
   "cell_type": "code",
   "execution_count": 81,
   "id": "4d07ee86-753d-4510-a4c5-06b2deb0fb91",
   "metadata": {},
   "outputs": [
    {
     "data": {
      "text/plain": [
       "array([0.05121356, 0.94541156, 0.33774346])"
      ]
     },
     "execution_count": 81,
     "metadata": {},
     "output_type": "execute_result"
    }
   ],
   "source": [
    "arr1[2:5,1]"
   ]
  },
  {
   "cell_type": "code",
   "execution_count": 84,
   "id": "43f6a7a7-3a6e-4a4f-8bcb-bd55b75fee75",
   "metadata": {},
   "outputs": [],
   "source": [
    "arr = np.random.randint(1,100, (5,5))"
   ]
  },
  {
   "cell_type": "code",
   "execution_count": 85,
   "id": "dae734f1-805d-4cc9-845c-6b266fa8fe1b",
   "metadata": {},
   "outputs": [
    {
     "data": {
      "text/plain": [
       "array([[18, 83, 68,  1, 69],\n",
       "       [35, 84, 73, 86, 64],\n",
       "       [21, 61, 96,  8, 93],\n",
       "       [93, 38, 33, 42,  5],\n",
       "       [29, 11, 74, 92,  3]])"
      ]
     },
     "execution_count": 85,
     "metadata": {},
     "output_type": "execute_result"
    }
   ],
   "source": [
    "arr"
   ]
  },
  {
   "cell_type": "code",
   "execution_count": 87,
   "id": "b7ece629-e670-45bd-9c79-24c587705a4c",
   "metadata": {},
   "outputs": [
    {
     "data": {
      "text/plain": [
       "array([83, 68, 69, 84, 73, 86, 64, 61, 96, 93, 93, 74, 92])"
      ]
     },
     "execution_count": 87,
     "metadata": {},
     "output_type": "execute_result"
    }
   ],
   "source": [
    "arr[arr > 50]"
   ]
  },
  {
   "cell_type": "code",
   "execution_count": 88,
   "id": "4543b3c9-b8ff-41e9-be13-59b010636b04",
   "metadata": {},
   "outputs": [
    {
     "data": {
      "text/plain": [
       "array([[18, 83, 68,  1, 69],\n",
       "       [35, 84, 73, 86, 64],\n",
       "       [21, 61, 96,  8, 93],\n",
       "       [93, 38, 33, 42,  5],\n",
       "       [29, 11, 74, 92,  3]])"
      ]
     },
     "execution_count": 88,
     "metadata": {},
     "output_type": "execute_result"
    }
   ],
   "source": [
    "arr"
   ]
  },
  {
   "cell_type": "code",
   "execution_count": 89,
   "id": "ca7e1401-0ef1-441d-b5d5-b2678d13af3c",
   "metadata": {},
   "outputs": [
    {
     "data": {
      "text/plain": [
       "array([[61, 96],\n",
       "       [38, 33]])"
      ]
     },
     "execution_count": 89,
     "metadata": {},
     "output_type": "execute_result"
    }
   ],
   "source": [
    "arr[2:4,[1,2]]"
   ]
  },
  {
   "cell_type": "code",
   "execution_count": 92,
   "id": "47e98981-f3db-42e7-b3e5-93541f31eb5e",
   "metadata": {},
   "outputs": [],
   "source": [
    "arr[0][0] = 5000"
   ]
  },
  {
   "cell_type": "code",
   "execution_count": 93,
   "id": "5cf2c4db-9734-43f4-8629-daf5d59eba5c",
   "metadata": {},
   "outputs": [
    {
     "data": {
      "text/plain": [
       "array([[5000,   83,   68,    1,   69],\n",
       "       [  35,   84,   73,   86,   64],\n",
       "       [  21,   61,   96,    8,   93],\n",
       "       [  93,   38,   33,   42,    5],\n",
       "       [  29,   11,   74,   92,    3]])"
      ]
     },
     "execution_count": 93,
     "metadata": {},
     "output_type": "execute_result"
    }
   ],
   "source": [
    "arr"
   ]
  },
  {
   "cell_type": "code",
   "execution_count": 181,
   "id": "a36e0c0d-4e28-43b7-b870-20c464fae46c",
   "metadata": {},
   "outputs": [],
   "source": [
    "# inbuild function\n"
   ]
  },
  {
   "cell_type": "code",
   "execution_count": 95,
   "id": "693eefb8-895a-4e21-a6db-c84885149f86",
   "metadata": {},
   "outputs": [],
   "source": [
    "arr1 = np.random.randint(1,3, (3,3))\n",
    "arr2 = np.random.randint(1,3, (3,3))"
   ]
  },
  {
   "cell_type": "code",
   "execution_count": 96,
   "id": "d996619d-bcaf-4969-93c6-7d74d97075b9",
   "metadata": {},
   "outputs": [
    {
     "data": {
      "text/plain": [
       "array([[2, 1, 2],\n",
       "       [1, 1, 1],\n",
       "       [2, 2, 2]])"
      ]
     },
     "execution_count": 96,
     "metadata": {},
     "output_type": "execute_result"
    }
   ],
   "source": [
    "arr1"
   ]
  },
  {
   "cell_type": "code",
   "execution_count": 97,
   "id": "d9ad3c8d-32b6-4868-9a5d-75981cb493b0",
   "metadata": {},
   "outputs": [
    {
     "data": {
      "text/plain": [
       "array([[2, 2, 1],\n",
       "       [2, 2, 2],\n",
       "       [2, 1, 2]])"
      ]
     },
     "execution_count": 97,
     "metadata": {},
     "output_type": "execute_result"
    }
   ],
   "source": [
    "arr2"
   ]
  },
  {
   "cell_type": "code",
   "execution_count": 98,
   "id": "c4e64355-ff9b-43cb-bbfe-6b66c8c22e17",
   "metadata": {},
   "outputs": [
    {
     "data": {
      "text/plain": [
       "array([[4, 3, 3],\n",
       "       [3, 3, 3],\n",
       "       [4, 3, 4]])"
      ]
     },
     "execution_count": 98,
     "metadata": {},
     "output_type": "execute_result"
    }
   ],
   "source": [
    "arr1+arr2"
   ]
  },
  {
   "cell_type": "code",
   "execution_count": 99,
   "id": "81d74804-3c2b-4d4b-8602-e5c21535f39a",
   "metadata": {},
   "outputs": [
    {
     "data": {
      "text/plain": [
       "array([[ 0, -1,  1],\n",
       "       [-1, -1, -1],\n",
       "       [ 0,  1,  0]])"
      ]
     },
     "execution_count": 99,
     "metadata": {},
     "output_type": "execute_result"
    }
   ],
   "source": [
    "arr1-arr2"
   ]
  },
  {
   "cell_type": "code",
   "execution_count": 100,
   "id": "e9921e95-a0da-45c4-8b46-0f5a7183a5f8",
   "metadata": {},
   "outputs": [
    {
     "data": {
      "text/plain": [
       "array([[1. , 0.5, 2. ],\n",
       "       [0.5, 0.5, 0.5],\n",
       "       [1. , 2. , 1. ]])"
      ]
     },
     "execution_count": 100,
     "metadata": {},
     "output_type": "execute_result"
    }
   ],
   "source": [
    "arr1/arr2"
   ]
  },
  {
   "cell_type": "code",
   "execution_count": 101,
   "id": "8dcfc3bd-e895-448a-b32d-1a88bbf5b0f3",
   "metadata": {},
   "outputs": [
    {
     "data": {
      "text/plain": [
       "array([[4, 2, 2],\n",
       "       [2, 2, 2],\n",
       "       [4, 2, 4]])"
      ]
     },
     "execution_count": 101,
     "metadata": {},
     "output_type": "execute_result"
    }
   ],
   "source": [
    "arr1 * arr2"
   ]
  },
  {
   "cell_type": "code",
   "execution_count": 102,
   "id": "a22613d5-3370-43c2-af69-688f286ff450",
   "metadata": {},
   "outputs": [
    {
     "data": {
      "text/plain": [
       "array([[2, 1, 2],\n",
       "       [1, 1, 1],\n",
       "       [2, 2, 2]])"
      ]
     },
     "execution_count": 102,
     "metadata": {},
     "output_type": "execute_result"
    }
   ],
   "source": [
    "arr1"
   ]
  },
  {
   "cell_type": "code",
   "execution_count": 104,
   "id": "bcaf300b-661c-4c2b-94ab-34e31fc286be",
   "metadata": {},
   "outputs": [
    {
     "data": {
      "text/plain": [
       "array([[10,  8,  8],\n",
       "       [ 6,  5,  5],\n",
       "       [12, 10, 10]])"
      ]
     },
     "execution_count": 104,
     "metadata": {},
     "output_type": "execute_result"
    }
   ],
   "source": [
    "# matrix multiplication\n",
    "\n",
    "arr1@arr2"
   ]
  },
  {
   "cell_type": "code",
   "execution_count": 105,
   "id": "f5e6395a-9eae-4506-b851-2dd30dd2cfbe",
   "metadata": {},
   "outputs": [
    {
     "name": "stderr",
     "output_type": "stream",
     "text": [
      "C:\\Users\\Mohd Wasil\\AppData\\Local\\Temp\\ipykernel_13692\\1510032488.py:1: RuntimeWarning: divide by zero encountered in divide\n",
      "  arr1/0\n"
     ]
    },
    {
     "data": {
      "text/plain": [
       "array([[inf, inf, inf],\n",
       "       [inf, inf, inf],\n",
       "       [inf, inf, inf]])"
      ]
     },
     "execution_count": 105,
     "metadata": {},
     "output_type": "execute_result"
    }
   ],
   "source": [
    "arr1/0"
   ]
  },
  {
   "cell_type": "code",
   "execution_count": 106,
   "id": "6d3eb58c-44b2-4d97-bfb6-14dbf39913c0",
   "metadata": {},
   "outputs": [
    {
     "data": {
      "text/plain": [
       "array([[102, 101, 102],\n",
       "       [101, 101, 101],\n",
       "       [102, 102, 102]])"
      ]
     },
     "execution_count": 106,
     "metadata": {},
     "output_type": "execute_result"
    }
   ],
   "source": [
    "arr1 + 100"
   ]
  },
  {
   "cell_type": "code",
   "execution_count": 107,
   "id": "46abf107-4b63-4c44-ad9b-a9f49912d3be",
   "metadata": {},
   "outputs": [
    {
     "data": {
      "text/plain": [
       "array([[4, 1, 4],\n",
       "       [1, 1, 1],\n",
       "       [4, 4, 4]])"
      ]
     },
     "execution_count": 107,
     "metadata": {},
     "output_type": "execute_result"
    }
   ],
   "source": [
    "arr1 **2"
   ]
  },
  {
   "cell_type": "code",
   "execution_count": 108,
   "id": "8eb3b812-a06d-4640-80b7-4fbd94c21bd9",
   "metadata": {},
   "outputs": [],
   "source": [
    "# Numpy -> Broadcasting"
   ]
  },
  {
   "cell_type": "code",
   "execution_count": 110,
   "id": "c5a74385-1e8f-4243-8cca-e2fe6ac1bfac",
   "metadata": {},
   "outputs": [],
   "source": [
    "arr = np.zeros((4,4))"
   ]
  },
  {
   "cell_type": "code",
   "execution_count": 111,
   "id": "56061de7-966a-4f06-af4a-2e36ea37d018",
   "metadata": {},
   "outputs": [
    {
     "data": {
      "text/plain": [
       "array([[0., 0., 0., 0.],\n",
       "       [0., 0., 0., 0.],\n",
       "       [0., 0., 0., 0.],\n",
       "       [0., 0., 0., 0.]])"
      ]
     },
     "execution_count": 111,
     "metadata": {},
     "output_type": "execute_result"
    }
   ],
   "source": [
    "arr"
   ]
  },
  {
   "cell_type": "code",
   "execution_count": 112,
   "id": "0e09e0a7-7748-4672-9ede-c2aae9babfda",
   "metadata": {},
   "outputs": [],
   "source": [
    "row = np.array([1,2,3,4])"
   ]
  },
  {
   "cell_type": "code",
   "execution_count": 113,
   "id": "6669926c-6fd2-4506-9a4f-93ae32b89d53",
   "metadata": {},
   "outputs": [
    {
     "data": {
      "text/plain": [
       "array([1, 2, 3, 4])"
      ]
     },
     "execution_count": 113,
     "metadata": {},
     "output_type": "execute_result"
    }
   ],
   "source": [
    "row # linear array"
   ]
  },
  {
   "cell_type": "code",
   "execution_count": 115,
   "id": "bef5b6a5-4ca0-42f6-ba21-f0fd0b2d508b",
   "metadata": {},
   "outputs": [
    {
     "data": {
      "text/plain": [
       "array([[1., 2., 3., 4.],\n",
       "       [1., 2., 3., 4.],\n",
       "       [1., 2., 3., 4.],\n",
       "       [1., 2., 3., 4.]])"
      ]
     },
     "execution_count": 115,
     "metadata": {},
     "output_type": "execute_result"
    }
   ],
   "source": [
    "arr  + row  # row bis broadcasting"
   ]
  },
  {
   "cell_type": "code",
   "execution_count": 116,
   "id": "380badf9-cb54-4f98-b422-6ff942b329b8",
   "metadata": {},
   "outputs": [],
   "source": [
    "# columns bis"
   ]
  },
  {
   "cell_type": "code",
   "execution_count": 117,
   "id": "684e7b18-1159-4bfd-9e71-e53ba88bc207",
   "metadata": {},
   "outputs": [
    {
     "data": {
      "text/plain": [
       "(4,)"
      ]
     },
     "execution_count": 117,
     "metadata": {},
     "output_type": "execute_result"
    }
   ],
   "source": [
    "row.shape"
   ]
  },
  {
   "cell_type": "code",
   "execution_count": 118,
   "id": "0241469e-bfc4-4da0-9909-85983083bbf3",
   "metadata": {},
   "outputs": [
    {
     "data": {
      "text/plain": [
       "array([1, 2, 3, 4])"
      ]
     },
     "execution_count": 118,
     "metadata": {},
     "output_type": "execute_result"
    }
   ],
   "source": [
    "row.T"
   ]
  },
  {
   "cell_type": "code",
   "execution_count": 120,
   "id": "6f0066be-6186-4f51-bbab-c99e651b9672",
   "metadata": {},
   "outputs": [],
   "source": [
    "col = np.array([[1,2,3,4]])"
   ]
  },
  {
   "cell_type": "code",
   "execution_count": 121,
   "id": "d9ebc60f-4e52-470f-a009-510abda10951",
   "metadata": {},
   "outputs": [
    {
     "data": {
      "text/plain": [
       "array([[1],\n",
       "       [2],\n",
       "       [3],\n",
       "       [4]])"
      ]
     },
     "execution_count": 121,
     "metadata": {},
     "output_type": "execute_result"
    }
   ],
   "source": [
    " col.T"
   ]
  },
  {
   "cell_type": "code",
   "execution_count": 122,
   "id": "387f0010-83de-4984-b941-635650f092b6",
   "metadata": {},
   "outputs": [
    {
     "data": {
      "text/plain": [
       "array([[1, 2, 3, 4]])"
      ]
     },
     "execution_count": 122,
     "metadata": {},
     "output_type": "execute_result"
    }
   ],
   "source": [
    "col"
   ]
  },
  {
   "cell_type": "code",
   "execution_count": 123,
   "id": "6794f749-325c-4a9a-85b0-07d5bb7afe27",
   "metadata": {},
   "outputs": [
    {
     "data": {
      "text/plain": [
       "array([[1., 1., 1., 1.],\n",
       "       [2., 2., 2., 2.],\n",
       "       [3., 3., 3., 3.],\n",
       "       [4., 4., 4., 4.]])"
      ]
     },
     "execution_count": 123,
     "metadata": {},
     "output_type": "execute_result"
    }
   ],
   "source": [
    "col.T + arr"
   ]
  },
  {
   "cell_type": "code",
   "execution_count": 124,
   "id": "a9626af1-fea3-45d3-97e0-ed8f0fda0cff",
   "metadata": {},
   "outputs": [
    {
     "data": {
      "text/plain": [
       "array([[1, 2, 3, 4]])"
      ]
     },
     "execution_count": 124,
     "metadata": {},
     "output_type": "execute_result"
    }
   ],
   "source": [
    "col"
   ]
  },
  {
   "cell_type": "code",
   "execution_count": 125,
   "id": "f9b1f755-2358-4f90-b28b-687e0f1b8041",
   "metadata": {},
   "outputs": [
    {
     "data": {
      "text/plain": [
       "array([[0., 0., 0., 0.],\n",
       "       [0., 0., 0., 0.],\n",
       "       [0., 0., 0., 0.],\n",
       "       [0., 0., 0., 0.]])"
      ]
     },
     "execution_count": 125,
     "metadata": {},
     "output_type": "execute_result"
    }
   ],
   "source": [
    "arr"
   ]
  },
  {
   "cell_type": "code",
   "execution_count": 126,
   "id": "147401e7-c62c-4671-9676-2c974678b269",
   "metadata": {},
   "outputs": [],
   "source": [
    "arr1 = np.random.randint(1,4, (3,4))"
   ]
  },
  {
   "cell_type": "code",
   "execution_count": 127,
   "id": "0eb62125-282b-42ea-a4ea-ba8401eb48de",
   "metadata": {},
   "outputs": [
    {
     "data": {
      "text/plain": [
       "array([[1, 2, 3, 3],\n",
       "       [1, 2, 2, 3],\n",
       "       [1, 1, 2, 1]])"
      ]
     },
     "execution_count": 127,
     "metadata": {},
     "output_type": "execute_result"
    }
   ],
   "source": [
    "arr1"
   ]
  },
  {
   "cell_type": "code",
   "execution_count": 128,
   "id": "445c6b9b-dfff-47b4-8fe1-5b6292428519",
   "metadata": {},
   "outputs": [
    {
     "data": {
      "text/plain": [
       "array([[1.        , 1.41421356, 1.73205081, 1.73205081],\n",
       "       [1.        , 1.41421356, 1.41421356, 1.73205081],\n",
       "       [1.        , 1.        , 1.41421356, 1.        ]])"
      ]
     },
     "execution_count": 128,
     "metadata": {},
     "output_type": "execute_result"
    }
   ],
   "source": [
    "np.sqrt(arr1)"
   ]
  },
  {
   "cell_type": "code",
   "execution_count": 129,
   "id": "a2ecc916-5306-483b-8264-d90817de51e5",
   "metadata": {},
   "outputs": [
    {
     "data": {
      "text/plain": [
       "array([[ 2.71828183,  7.3890561 , 20.08553692, 20.08553692],\n",
       "       [ 2.71828183,  7.3890561 ,  7.3890561 , 20.08553692],\n",
       "       [ 2.71828183,  2.71828183,  7.3890561 ,  2.71828183]])"
      ]
     },
     "execution_count": 129,
     "metadata": {},
     "output_type": "execute_result"
    }
   ],
   "source": [
    "np.exp(arr1)"
   ]
  },
  {
   "cell_type": "code",
   "execution_count": 130,
   "id": "7525f125-f6d5-40e9-b1f2-137df40f410b",
   "metadata": {},
   "outputs": [
    {
     "data": {
      "text/plain": [
       "array([[0.        , 0.30103   , 0.47712125, 0.47712125],\n",
       "       [0.        , 0.30103   , 0.30103   , 0.47712125],\n",
       "       [0.        , 0.        , 0.30103   , 0.        ]])"
      ]
     },
     "execution_count": 130,
     "metadata": {},
     "output_type": "execute_result"
    }
   ],
   "source": [
    "np.log10(arr1)"
   ]
  },
  {
   "cell_type": "markdown",
   "id": "2f6f1251-e26a-4fb1-b186-b12fcb3f45d3",
   "metadata": {},
   "source": [
    "PART -> 02"
   ]
  },
  {
   "cell_type": "code",
   "execution_count": 131,
   "id": "5eb324f3-691d-4c5e-8264-2a3a3c4b541f",
   "metadata": {},
   "outputs": [],
   "source": [
    "import numpy as np"
   ]
  },
  {
   "cell_type": "code",
   "execution_count": 132,
   "id": "f2c2034d-1362-4e3e-98f6-789c0948ad77",
   "metadata": {},
   "outputs": [],
   "source": [
    "# numpy -> array Manipulation"
   ]
  },
  {
   "cell_type": "code",
   "execution_count": 133,
   "id": "daa4d76e-9064-4850-9980-3941e98c4621",
   "metadata": {},
   "outputs": [],
   "source": [
    "arr = np.random.randint(1,10, (3,4))"
   ]
  },
  {
   "cell_type": "code",
   "execution_count": 134,
   "id": "e1a60021-8add-48ec-8dec-d36949bf3ec0",
   "metadata": {},
   "outputs": [
    {
     "data": {
      "text/plain": [
       "array([[7, 7, 3, 9],\n",
       "       [3, 1, 1, 2],\n",
       "       [3, 7, 4, 7]])"
      ]
     },
     "execution_count": 134,
     "metadata": {},
     "output_type": "execute_result"
    }
   ],
   "source": [
    "arr"
   ]
  },
  {
   "cell_type": "code",
   "execution_count": 135,
   "id": "75b0aa7a-4f23-4a39-9843-9c5fee845247",
   "metadata": {},
   "outputs": [
    {
     "data": {
      "text/plain": [
       "array([[7, 7],\n",
       "       [3, 9],\n",
       "       [3, 1],\n",
       "       [1, 2],\n",
       "       [3, 7],\n",
       "       [4, 7]])"
      ]
     },
     "execution_count": 135,
     "metadata": {},
     "output_type": "execute_result"
    }
   ],
   "source": [
    "arr.reshape(6,2)"
   ]
  },
  {
   "cell_type": "code",
   "execution_count": 136,
   "id": "dd23f4b6-4d1b-43c7-8ca4-cc601695e23d",
   "metadata": {},
   "outputs": [
    {
     "data": {
      "text/plain": [
       "array([[7, 7, 3, 9, 3, 1],\n",
       "       [1, 2, 3, 7, 4, 7]])"
      ]
     },
     "execution_count": 136,
     "metadata": {},
     "output_type": "execute_result"
    }
   ],
   "source": [
    "arr.reshape(2,6)"
   ]
  },
  {
   "cell_type": "code",
   "execution_count": 137,
   "id": "16e1c450-acfd-4af3-8bc1-4e41698c7525",
   "metadata": {},
   "outputs": [
    {
     "ename": "ValueError",
     "evalue": "cannot reshape array of size 12 into shape (2,7)",
     "output_type": "error",
     "traceback": [
      "\u001b[1;31m---------------------------------------------------------------------------\u001b[0m",
      "\u001b[1;31mValueError\u001b[0m                                Traceback (most recent call last)",
      "Cell \u001b[1;32mIn[137], line 1\u001b[0m\n\u001b[1;32m----> 1\u001b[0m arr\u001b[38;5;241m.\u001b[39mreshape(\u001b[38;5;241m2\u001b[39m,\u001b[38;5;241m7\u001b[39m)\n",
      "\u001b[1;31mValueError\u001b[0m: cannot reshape array of size 12 into shape (2,7)"
     ]
    }
   ],
   "source": [
    "arr.reshape(2,7)"
   ]
  },
  {
   "cell_type": "code",
   "execution_count": 138,
   "id": "8ab57451-198a-4f92-aa61-2b347235f982",
   "metadata": {},
   "outputs": [
    {
     "data": {
      "text/plain": [
       "array([[7, 7, 3, 9, 3, 1],\n",
       "       [1, 2, 3, 7, 4, 7]])"
      ]
     },
     "execution_count": 138,
     "metadata": {},
     "output_type": "execute_result"
    }
   ],
   "source": [
    "arr.reshape(2,-2336)"
   ]
  },
  {
   "cell_type": "code",
   "execution_count": 139,
   "id": "9cdbd26c-e16d-424c-b612-1b5101086298",
   "metadata": {},
   "outputs": [
    {
     "data": {
      "text/plain": [
       "array([[7, 3, 3],\n",
       "       [7, 1, 7],\n",
       "       [3, 1, 4],\n",
       "       [9, 2, 7]])"
      ]
     },
     "execution_count": 139,
     "metadata": {},
     "output_type": "execute_result"
    }
   ],
   "source": [
    "arr.T # array rotate"
   ]
  },
  {
   "cell_type": "code",
   "execution_count": 140,
   "id": "fa477709-9fae-44a0-8e8b-b7657ddb101b",
   "metadata": {},
   "outputs": [
    {
     "data": {
      "text/plain": [
       "array([[7, 7, 3, 9],\n",
       "       [3, 1, 1, 2],\n",
       "       [3, 7, 4, 7]])"
      ]
     },
     "execution_count": 140,
     "metadata": {},
     "output_type": "execute_result"
    }
   ],
   "source": [
    "arr"
   ]
  },
  {
   "cell_type": "code",
   "execution_count": 141,
   "id": "30206450-28a4-4b30-9a2c-90277f5d96c2",
   "metadata": {},
   "outputs": [
    {
     "data": {
      "text/plain": [
       "array([7, 7, 3, 9, 3, 1, 1, 2, 3, 7, 4, 7])"
      ]
     },
     "execution_count": 141,
     "metadata": {},
     "output_type": "execute_result"
    }
   ],
   "source": [
    "arr.flatten() # 2 dimension convert one dimension"
   ]
  },
  {
   "cell_type": "code",
   "execution_count": 142,
   "id": "9fa222d3-1288-4b22-8788-435f29def9b8",
   "metadata": {},
   "outputs": [],
   "source": [
    "arr1 = np.array([1,2,3,3,4])"
   ]
  },
  {
   "cell_type": "code",
   "execution_count": 143,
   "id": "b549933f-743f-4df0-81e5-69c45f472364",
   "metadata": {},
   "outputs": [
    {
     "data": {
      "text/plain": [
       "1"
      ]
     },
     "execution_count": 143,
     "metadata": {},
     "output_type": "execute_result"
    }
   ],
   "source": [
    "arr1.ndim"
   ]
  },
  {
   "cell_type": "code",
   "execution_count": 144,
   "id": "4fb122cd-3240-47cf-ba31-ecb66b810d20",
   "metadata": {},
   "outputs": [
    {
     "data": {
      "text/plain": [
       "array([[1],\n",
       "       [2],\n",
       "       [3],\n",
       "       [3],\n",
       "       [4]])"
      ]
     },
     "execution_count": 144,
     "metadata": {},
     "output_type": "execute_result"
    }
   ],
   "source": [
    "np.expand_dims(arr1, axis=1)  # 1 convert 2D"
   ]
  },
  {
   "cell_type": "code",
   "execution_count": 145,
   "id": "bd6d438d-b59b-4308-b009-5ac34062cba3",
   "metadata": {},
   "outputs": [
    {
     "data": {
      "text/plain": [
       "array([[1, 2, 3, 3, 4]])"
      ]
     },
     "execution_count": 145,
     "metadata": {},
     "output_type": "execute_result"
    }
   ],
   "source": [
    "np.expand_dims(arr1, axis=0)"
   ]
  },
  {
   "cell_type": "code",
   "execution_count": 146,
   "id": "2ee6e25a-f8e4-4f1f-9aa4-33af340ccc98",
   "metadata": {},
   "outputs": [
    {
     "data": {
      "text/plain": [
       "array([[7, 7, 3, 9],\n",
       "       [3, 1, 1, 2],\n",
       "       [3, 7, 4, 7]])"
      ]
     },
     "execution_count": 146,
     "metadata": {},
     "output_type": "execute_result"
    }
   ],
   "source": [
    "arr"
   ]
  },
  {
   "cell_type": "code",
   "execution_count": 147,
   "id": "9f8aac75-c1f8-400f-8755-83b9e935c7ff",
   "metadata": {},
   "outputs": [
    {
     "data": {
      "text/plain": [
       "array([[7, 7, 3, 9],\n",
       "       [3, 1, 1, 2],\n",
       "       [3, 7, 4, 7]])"
      ]
     },
     "execution_count": 147,
     "metadata": {},
     "output_type": "execute_result"
    }
   ],
   "source": [
    "np.squeeze(arr)"
   ]
  },
  {
   "cell_type": "code",
   "execution_count": 148,
   "id": "dfd765b3-606f-47f5-a8f5-363149690408",
   "metadata": {},
   "outputs": [],
   "source": [
    "data = np.array([[1], [2], [3]])"
   ]
  },
  {
   "cell_type": "code",
   "execution_count": 149,
   "id": "74b842a2-9aff-4a70-aa35-799a235b5640",
   "metadata": {},
   "outputs": [
    {
     "data": {
      "text/plain": [
       "array([[1],\n",
       "       [2],\n",
       "       [3]])"
      ]
     },
     "execution_count": 149,
     "metadata": {},
     "output_type": "execute_result"
    }
   ],
   "source": [
    "data"
   ]
  },
  {
   "cell_type": "code",
   "execution_count": 150,
   "id": "c5b4b79f-fe59-48d0-a054-6bc7db0a5988",
   "metadata": {},
   "outputs": [
    {
     "data": {
      "text/plain": [
       "array([1, 2, 3])"
      ]
     },
     "execution_count": 150,
     "metadata": {},
     "output_type": "execute_result"
    }
   ],
   "source": [
    "np.squeeze(data)"
   ]
  },
  {
   "cell_type": "code",
   "execution_count": 151,
   "id": "ea5307a7-e2bc-434e-b2d8-a326b860f5b9",
   "metadata": {},
   "outputs": [
    {
     "data": {
      "text/plain": [
       "array([1, 2, 3, 3, 4])"
      ]
     },
     "execution_count": 151,
     "metadata": {},
     "output_type": "execute_result"
    }
   ],
   "source": [
    "arr1"
   ]
  },
  {
   "cell_type": "code",
   "execution_count": 152,
   "id": "9554e5a6-6cdb-417f-864d-28126eb06db7",
   "metadata": {},
   "outputs": [
    {
     "data": {
      "text/plain": [
       "array([1, 1, 1, 2, 2, 2, 3, 3, 3, 3, 3, 3, 4, 4, 4])"
      ]
     },
     "execution_count": 152,
     "metadata": {},
     "output_type": "execute_result"
    }
   ],
   "source": [
    "np.repeat(arr1,3)"
   ]
  },
  {
   "cell_type": "code",
   "execution_count": 153,
   "id": "2a42974f-739b-4bc8-9565-7289f6f0f76d",
   "metadata": {},
   "outputs": [
    {
     "data": {
      "text/plain": [
       "array([3, 4, 1, 2, 3])"
      ]
     },
     "execution_count": 153,
     "metadata": {},
     "output_type": "execute_result"
    }
   ],
   "source": [
    "np.roll(arr1, 2)"
   ]
  },
  {
   "cell_type": "code",
   "execution_count": 154,
   "id": "c59f0975-5ec5-4db3-98e1-508c7576b78d",
   "metadata": {},
   "outputs": [
    {
     "data": {
      "text/plain": [
       "array([1, 2, 3, 3, 4])"
      ]
     },
     "execution_count": 154,
     "metadata": {},
     "output_type": "execute_result"
    }
   ],
   "source": [
    "arr1"
   ]
  },
  {
   "cell_type": "code",
   "execution_count": 156,
   "id": "e12eb5b3-8163-477d-9ae0-97cd23c59d68",
   "metadata": {},
   "outputs": [
    {
     "data": {
      "text/plain": [
       "array([[1, 0, 0, 0, 0],\n",
       "       [0, 2, 0, 0, 0],\n",
       "       [0, 0, 3, 0, 0],\n",
       "       [0, 0, 0, 3, 0],\n",
       "       [0, 0, 0, 0, 4]])"
      ]
     },
     "execution_count": 156,
     "metadata": {},
     "output_type": "execute_result"
    }
   ],
   "source": [
    "np.diag(arr1)"
   ]
  },
  {
   "cell_type": "code",
   "execution_count": 157,
   "id": "236f67e1-582b-4d66-a6ce-74218f23378f",
   "metadata": {},
   "outputs": [],
   "source": [
    "# Numpy -> Binary Operations"
   ]
  },
  {
   "cell_type": "code",
   "execution_count": 158,
   "id": "a980afcd-b52b-4fc6-b38d-970ac9145199",
   "metadata": {},
   "outputs": [],
   "source": [
    "arr1 = np.random.randint(1,10, (3,4))"
   ]
  },
  {
   "cell_type": "code",
   "execution_count": 159,
   "id": "bd78577b-5e6d-43b5-91db-c509257888a8",
   "metadata": {},
   "outputs": [],
   "source": [
    "arr2 = np.random.randint(1,10, (3,4))"
   ]
  },
  {
   "cell_type": "code",
   "execution_count": 160,
   "id": "6fbb62a8-bb5d-45cb-9330-1ffd77a5d0fc",
   "metadata": {},
   "outputs": [
    {
     "data": {
      "text/plain": [
       "array([[4, 9, 3, 1],\n",
       "       [3, 3, 4, 1],\n",
       "       [1, 1, 4, 5]])"
      ]
     },
     "execution_count": 160,
     "metadata": {},
     "output_type": "execute_result"
    }
   ],
   "source": [
    "arr1"
   ]
  },
  {
   "cell_type": "code",
   "execution_count": 161,
   "id": "a03ac6ae-a9fa-4bed-8a7e-098286c0f4f3",
   "metadata": {},
   "outputs": [
    {
     "data": {
      "text/plain": [
       "array([[1, 7, 9, 1],\n",
       "       [6, 3, 1, 3],\n",
       "       [5, 6, 3, 2]])"
      ]
     },
     "execution_count": 161,
     "metadata": {},
     "output_type": "execute_result"
    }
   ],
   "source": [
    "arr2"
   ]
  },
  {
   "cell_type": "code",
   "execution_count": 162,
   "id": "9669ca47-7296-4aba-b178-6fac0b87680b",
   "metadata": {},
   "outputs": [
    {
     "data": {
      "text/plain": [
       "array([[ 5, 16, 12,  2],\n",
       "       [ 9,  6,  5,  4],\n",
       "       [ 6,  7,  7,  7]])"
      ]
     },
     "execution_count": 162,
     "metadata": {},
     "output_type": "execute_result"
    }
   ],
   "source": [
    "arr1+arr2"
   ]
  },
  {
   "cell_type": "code",
   "execution_count": 163,
   "id": "b0a69010-a08a-40de-a41d-cccb1d3cbee3",
   "metadata": {},
   "outputs": [
    {
     "data": {
      "text/plain": [
       "array([[ 4, 63, 27,  1],\n",
       "       [18,  9,  4,  3],\n",
       "       [ 5,  6, 12, 10]])"
      ]
     },
     "execution_count": 163,
     "metadata": {},
     "output_type": "execute_result"
    }
   ],
   "source": [
    "arr1*arr2"
   ]
  },
  {
   "cell_type": "code",
   "execution_count": 164,
   "id": "fb74776b-e871-4642-96ca-2672ef0e37c0",
   "metadata": {},
   "outputs": [
    {
     "data": {
      "text/plain": [
       "array([[4.        , 1.28571429, 0.33333333, 1.        ],\n",
       "       [0.5       , 1.        , 4.        , 0.33333333],\n",
       "       [0.2       , 0.16666667, 1.33333333, 2.5       ]])"
      ]
     },
     "execution_count": 164,
     "metadata": {},
     "output_type": "execute_result"
    }
   ],
   "source": [
    "arr1/arr2"
   ]
  },
  {
   "cell_type": "code",
   "execution_count": 165,
   "id": "bd12995e-778a-40c3-982f-9a4de7778650",
   "metadata": {},
   "outputs": [
    {
     "data": {
      "text/plain": [
       "array([[ 3,  2, -6,  0],\n",
       "       [-3,  0,  3, -2],\n",
       "       [-4, -5,  1,  3]])"
      ]
     },
     "execution_count": 165,
     "metadata": {},
     "output_type": "execute_result"
    }
   ],
   "source": [
    "arr1-arr2"
   ]
  },
  {
   "cell_type": "code",
   "execution_count": 166,
   "id": "7379f2f3-50d9-4a34-9eac-d5b27ac89a8d",
   "metadata": {},
   "outputs": [
    {
     "data": {
      "text/plain": [
       "array([[0, 2, 3, 0],\n",
       "       [3, 0, 0, 1],\n",
       "       [1, 1, 1, 1]])"
      ]
     },
     "execution_count": 166,
     "metadata": {},
     "output_type": "execute_result"
    }
   ],
   "source": [
    "# remainder operation\n",
    "arr1%arr2"
   ]
  },
  {
   "cell_type": "code",
   "execution_count": 167,
   "id": "bdb87423-c43d-4837-8552-052c5af4b522",
   "metadata": {},
   "outputs": [
    {
     "data": {
      "text/plain": [
       "array([[      4, 4782969,   19683,       1],\n",
       "       [    729,      27,       4,       1],\n",
       "       [      1,       1,      64,      25]])"
      ]
     },
     "execution_count": 167,
     "metadata": {},
     "output_type": "execute_result"
    }
   ],
   "source": [
    "arr1 ** arr2"
   ]
  },
  {
   "cell_type": "code",
   "execution_count": 168,
   "id": "2fd2e594-257f-495e-94c4-29354e0a7294",
   "metadata": {},
   "outputs": [
    {
     "data": {
      "text/plain": [
       "array([[0, 1, 1, 1],\n",
       "       [2, 3, 0, 1],\n",
       "       [1, 0, 0, 0]])"
      ]
     },
     "execution_count": 168,
     "metadata": {},
     "output_type": "execute_result"
    }
   ],
   "source": [
    "arr1 & arr2"
   ]
  },
  {
   "cell_type": "code",
   "execution_count": 169,
   "id": "c89c363b-9dec-47be-a546-e3e5c4c7d375",
   "metadata": {},
   "outputs": [
    {
     "data": {
      "text/plain": [
       "array([[4, 9, 3, 1],\n",
       "       [3, 3, 4, 1],\n",
       "       [1, 1, 4, 5]])"
      ]
     },
     "execution_count": 169,
     "metadata": {},
     "output_type": "execute_result"
    }
   ],
   "source": [
    "arr1"
   ]
  },
  {
   "cell_type": "code",
   "execution_count": 170,
   "id": "0f8c96bc-7f1f-4207-9fff-381c4d43e0e0",
   "metadata": {},
   "outputs": [
    {
     "data": {
      "text/plain": [
       "array([[1, 7, 9, 1],\n",
       "       [6, 3, 1, 3],\n",
       "       [5, 6, 3, 2]])"
      ]
     },
     "execution_count": 170,
     "metadata": {},
     "output_type": "execute_result"
    }
   ],
   "source": [
    "arr2"
   ]
  },
  {
   "cell_type": "code",
   "execution_count": 171,
   "id": "3c8562cd-7429-474d-98ef-4730dfd4f2cc",
   "metadata": {},
   "outputs": [
    {
     "data": {
      "text/plain": [
       "array([[-4, -9, -3, -1],\n",
       "       [-3, -3, -4, -1],\n",
       "       [-1, -1, -4, -5]])"
      ]
     },
     "execution_count": 171,
     "metadata": {},
     "output_type": "execute_result"
    }
   ],
   "source": [
    "-arr1"
   ]
  },
  {
   "cell_type": "code",
   "execution_count": 172,
   "id": "f77c27cb-e49f-408a-8f5a-ec931b62e657",
   "metadata": {},
   "outputs": [
    {
     "data": {
      "text/plain": [
       "array([[ 5, 15, 11,  1],\n",
       "       [ 7,  3,  5,  3],\n",
       "       [ 5,  7,  7,  7]])"
      ]
     },
     "execution_count": 172,
     "metadata": {},
     "output_type": "execute_result"
    }
   ],
   "source": [
    "arr1|arr2"
   ]
  },
  {
   "cell_type": "code",
   "execution_count": 173,
   "id": "c97d1f65-7779-44e1-ad2e-53137526c222",
   "metadata": {},
   "outputs": [
    {
     "data": {
      "text/plain": [
       "array([[ True,  True, False, False],\n",
       "       [False, False,  True, False],\n",
       "       [False, False,  True,  True]])"
      ]
     },
     "execution_count": 173,
     "metadata": {},
     "output_type": "execute_result"
    }
   ],
   "source": [
    "arr1>arr2"
   ]
  },
  {
   "cell_type": "code",
   "execution_count": 174,
   "id": "703ec472-7a48-4c9e-863d-3535d6cd7549",
   "metadata": {},
   "outputs": [],
   "source": [
    "#Numpy -> String Function"
   ]
  },
  {
   "cell_type": "code",
   "execution_count": 175,
   "id": "1f2153f6-d9e4-4206-afbe-6c668359cb65",
   "metadata": {},
   "outputs": [],
   "source": [
    "arr = np.array(['wasil','sudh'])"
   ]
  },
  {
   "cell_type": "code",
   "execution_count": 176,
   "id": "96a86174-3c42-4847-b2e4-44443548e3e5",
   "metadata": {},
   "outputs": [
    {
     "data": {
      "text/plain": [
       "array(['wasil', 'sudh'], dtype='<U5')"
      ]
     },
     "execution_count": 176,
     "metadata": {},
     "output_type": "execute_result"
    }
   ],
   "source": [
    "arr"
   ]
  },
  {
   "cell_type": "code",
   "execution_count": 177,
   "id": "d1e5de75-9f6e-4773-b983-113a69e7699a",
   "metadata": {},
   "outputs": [
    {
     "data": {
      "text/plain": [
       "array(['WASIL', 'SUDH'], dtype='<U5')"
      ]
     },
     "execution_count": 177,
     "metadata": {},
     "output_type": "execute_result"
    }
   ],
   "source": [
    "np.char.upper(arr)"
   ]
  },
  {
   "cell_type": "code",
   "execution_count": 178,
   "id": "f53b0702-a806-488b-b826-425f89d0d2a8",
   "metadata": {},
   "outputs": [
    {
     "data": {
      "text/plain": [
       "array(['Wasil', 'Sudh'], dtype='<U5')"
      ]
     },
     "execution_count": 178,
     "metadata": {},
     "output_type": "execute_result"
    }
   ],
   "source": [
    "np.char.title(arr)"
   ]
  },
  {
   "cell_type": "code",
   "execution_count": 179,
   "id": "05457f97-662e-404b-af59-0988cbe09024",
   "metadata": {},
   "outputs": [
    {
     "data": {
      "text/plain": [
       "array(['Wasil', 'Sudh'], dtype='<U5')"
      ]
     },
     "execution_count": 179,
     "metadata": {},
     "output_type": "execute_result"
    }
   ],
   "source": [
    "np.char.capitalize(arr)"
   ]
  },
  {
   "cell_type": "code",
   "execution_count": 180,
   "id": "b0fbe383-d369-44af-b3fe-746a706e5329",
   "metadata": {},
   "outputs": [],
   "source": [
    "#Numpy -> Mathematic function"
   ]
  },
  {
   "cell_type": "code",
   "execution_count": 182,
   "id": "e2947e89-71fb-40ab-9fca-f0c9fc2ef21a",
   "metadata": {},
   "outputs": [
    {
     "data": {
      "text/plain": [
       "array([[4, 9, 3, 1],\n",
       "       [3, 3, 4, 1],\n",
       "       [1, 1, 4, 5]])"
      ]
     },
     "execution_count": 182,
     "metadata": {},
     "output_type": "execute_result"
    }
   ],
   "source": [
    "arr1"
   ]
  },
  {
   "cell_type": "code",
   "execution_count": 183,
   "id": "16cb8eee-1219-4b75-945f-cb55efb8053f",
   "metadata": {},
   "outputs": [
    {
     "data": {
      "text/plain": [
       "array([[-0.7568025 ,  0.41211849,  0.14112001,  0.84147098],\n",
       "       [ 0.14112001,  0.14112001, -0.7568025 ,  0.84147098],\n",
       "       [ 0.84147098,  0.84147098, -0.7568025 , -0.95892427]])"
      ]
     },
     "execution_count": 183,
     "metadata": {},
     "output_type": "execute_result"
    }
   ],
   "source": [
    "np.sin(arr1)"
   ]
  },
  {
   "cell_type": "code",
   "execution_count": 184,
   "id": "5ef2259e-530d-477d-897b-e245aab68609",
   "metadata": {},
   "outputs": [
    {
     "data": {
      "text/plain": [
       "array([[-0.65364362, -0.91113026, -0.9899925 ,  0.54030231],\n",
       "       [-0.9899925 , -0.9899925 , -0.65364362,  0.54030231],\n",
       "       [ 0.54030231,  0.54030231, -0.65364362,  0.28366219]])"
      ]
     },
     "execution_count": 184,
     "metadata": {},
     "output_type": "execute_result"
    }
   ],
   "source": [
    "np.cos(arr1)"
   ]
  },
  {
   "cell_type": "code",
   "execution_count": 185,
   "id": "cf2ab318-f10f-4be8-8154-a52291694927",
   "metadata": {},
   "outputs": [
    {
     "data": {
      "text/plain": [
       "array([[ 1.15782128, -0.45231566, -0.14254654,  1.55740772],\n",
       "       [-0.14254654, -0.14254654,  1.15782128,  1.55740772],\n",
       "       [ 1.55740772,  1.55740772,  1.15782128, -3.38051501]])"
      ]
     },
     "execution_count": 185,
     "metadata": {},
     "output_type": "execute_result"
    }
   ],
   "source": [
    "np.tan(arr1)"
   ]
  },
  {
   "cell_type": "code",
   "execution_count": 186,
   "id": "64142d1c-15b4-453e-80a3-ab84e35252c3",
   "metadata": {},
   "outputs": [
    {
     "data": {
      "text/plain": [
       "array([[0.9993293 , 0.99999997, 0.99505475, 0.76159416],\n",
       "       [0.99505475, 0.99505475, 0.9993293 , 0.76159416],\n",
       "       [0.76159416, 0.76159416, 0.9993293 , 0.9999092 ]])"
      ]
     },
     "execution_count": 186,
     "metadata": {},
     "output_type": "execute_result"
    }
   ],
   "source": [
    "np.tanh(arr1)"
   ]
  },
  {
   "cell_type": "code",
   "execution_count": 187,
   "id": "87d477fc-1d26-4ec2-aa78-74bcf9dbcbd6",
   "metadata": {},
   "outputs": [
    {
     "data": {
      "text/plain": [
       "array([[0.60205999, 0.95424251, 0.47712125, 0.        ],\n",
       "       [0.47712125, 0.47712125, 0.60205999, 0.        ],\n",
       "       [0.        , 0.        , 0.60205999, 0.69897   ]])"
      ]
     },
     "execution_count": 187,
     "metadata": {},
     "output_type": "execute_result"
    }
   ],
   "source": [
    "np.log10(arr1)"
   ]
  },
  {
   "cell_type": "code",
   "execution_count": 188,
   "id": "7e6f347e-5bbe-4f59-82b2-9c8ff1c25457",
   "metadata": {},
   "outputs": [
    {
     "data": {
      "text/plain": [
       "array([[5.45981500e+01, 8.10308393e+03, 2.00855369e+01, 2.71828183e+00],\n",
       "       [2.00855369e+01, 2.00855369e+01, 5.45981500e+01, 2.71828183e+00],\n",
       "       [2.71828183e+00, 2.71828183e+00, 5.45981500e+01, 1.48413159e+02]])"
      ]
     },
     "execution_count": 188,
     "metadata": {},
     "output_type": "execute_result"
    }
   ],
   "source": [
    "np.exp(arr1)"
   ]
  },
  {
   "cell_type": "code",
   "execution_count": 189,
   "id": "94882c0d-29e1-4b14-980a-4399108a4b84",
   "metadata": {},
   "outputs": [
    {
     "data": {
      "text/plain": [
       "array([[2.        , 3.        , 1.73205081, 1.        ],\n",
       "       [1.73205081, 1.73205081, 2.        , 1.        ],\n",
       "       [1.        , 1.        , 2.        , 2.23606798]])"
      ]
     },
     "execution_count": 189,
     "metadata": {},
     "output_type": "execute_result"
    }
   ],
   "source": [
    "np.sqrt(arr1)"
   ]
  },
  {
   "cell_type": "code",
   "execution_count": 191,
   "id": "7bdd145c-630d-4478-a7a1-15a0a57a3772",
   "metadata": {},
   "outputs": [
    {
     "data": {
      "text/plain": [
       "array([[16, 81,  9,  1],\n",
       "       [ 9,  9, 16,  1],\n",
       "       [ 1,  1, 16, 25]], dtype=int32)"
      ]
     },
     "execution_count": 191,
     "metadata": {},
     "output_type": "execute_result"
    }
   ],
   "source": [
    "np.power(arr1,2)"
   ]
  },
  {
   "cell_type": "code",
   "execution_count": 192,
   "id": "ca6faae7-7a81-4822-b126-29dfc1532e21",
   "metadata": {},
   "outputs": [
    {
     "data": {
      "text/plain": [
       "3.25"
      ]
     },
     "execution_count": 192,
     "metadata": {},
     "output_type": "execute_result"
    }
   ],
   "source": [
    "np.mean(arr1)"
   ]
  },
  {
   "cell_type": "code",
   "execution_count": 193,
   "id": "3d702e11-11be-41dd-b1a3-855c4caf9f98",
   "metadata": {},
   "outputs": [
    {
     "data": {
      "text/plain": [
       "3.0"
      ]
     },
     "execution_count": 193,
     "metadata": {},
     "output_type": "execute_result"
    }
   ],
   "source": [
    "np.median(arr1)"
   ]
  },
  {
   "cell_type": "code",
   "execution_count": 194,
   "id": "5ed7fe68-a39f-4244-916b-f77654eca1a2",
   "metadata": {},
   "outputs": [
    {
     "data": {
      "text/plain": [
       "2.203217344400381"
      ]
     },
     "execution_count": 194,
     "metadata": {},
     "output_type": "execute_result"
    }
   ],
   "source": [
    "np.std(arr1)"
   ]
  },
  {
   "cell_type": "code",
   "execution_count": 195,
   "id": "a56cf7a2-d75c-42e2-a29f-de4db322c79a",
   "metadata": {},
   "outputs": [
    {
     "data": {
      "text/plain": [
       "4.854166666666667"
      ]
     },
     "execution_count": 195,
     "metadata": {},
     "output_type": "execute_result"
    }
   ],
   "source": [
    "np.var(arr1)"
   ]
  },
  {
   "cell_type": "code",
   "execution_count": 196,
   "id": "c5a527e5-4035-40d3-a5d0-eb6af243f8e1",
   "metadata": {},
   "outputs": [
    {
     "data": {
      "text/plain": [
       "1"
      ]
     },
     "execution_count": 196,
     "metadata": {},
     "output_type": "execute_result"
    }
   ],
   "source": [
    "np.min(arr1)"
   ]
  },
  {
   "cell_type": "code",
   "execution_count": 197,
   "id": "b237ab08-5e61-4abc-af4e-0ca4d7d16336",
   "metadata": {},
   "outputs": [
    {
     "data": {
      "text/plain": [
       "9"
      ]
     },
     "execution_count": 197,
     "metadata": {},
     "output_type": "execute_result"
    }
   ],
   "source": [
    "np.max(arr1)"
   ]
  },
  {
   "cell_type": "code",
   "execution_count": 198,
   "id": "2ea21ce2-e638-48c0-80e2-085d6ba6622c",
   "metadata": {},
   "outputs": [
    {
     "data": {
      "text/plain": [
       "array([[4, 9, 3, 1],\n",
       "       [3, 3, 4, 1],\n",
       "       [1, 1, 4, 5]])"
      ]
     },
     "execution_count": 198,
     "metadata": {},
     "output_type": "execute_result"
    }
   ],
   "source": [
    "arr1"
   ]
  },
  {
   "cell_type": "code",
   "execution_count": 199,
   "id": "45ddc71a-5ba0-494a-996f-3748d603660c",
   "metadata": {},
   "outputs": [],
   "source": [
    "# Sort, Search, Counting function"
   ]
  },
  {
   "cell_type": "code",
   "execution_count": 200,
   "id": "766bed90-9b12-481e-8f13-45ba1237a47f",
   "metadata": {},
   "outputs": [],
   "source": [
    "import numpy as np"
   ]
  },
  {
   "cell_type": "code",
   "execution_count": 201,
   "id": "83971311-c58b-41b7-9503-81b6739afa0a",
   "metadata": {},
   "outputs": [],
   "source": [
    "arr = np.array([4,5,3,4,6,5,7,8,977,69,9,6,6,3,333,44,22])"
   ]
  },
  {
   "cell_type": "code",
   "execution_count": 202,
   "id": "80c0e735-0832-450c-bb9a-364cad6922c1",
   "metadata": {},
   "outputs": [
    {
     "data": {
      "text/plain": [
       "array([  4,   5,   3,   4,   6,   5,   7,   8, 977,  69,   9,   6,   6,\n",
       "         3, 333,  44,  22])"
      ]
     },
     "execution_count": 202,
     "metadata": {},
     "output_type": "execute_result"
    }
   ],
   "source": [
    "arr"
   ]
  },
  {
   "cell_type": "code",
   "execution_count": 203,
   "id": "9dd70908-e9fe-439d-95f8-122e9b7cde6c",
   "metadata": {},
   "outputs": [
    {
     "data": {
      "text/plain": [
       "array([  3,   3,   4,   4,   5,   5,   6,   6,   6,   7,   8,   9,  22,\n",
       "        44,  69, 333, 977])"
      ]
     },
     "execution_count": 203,
     "metadata": {},
     "output_type": "execute_result"
    }
   ],
   "source": [
    "np.sort(arr)"
   ]
  },
  {
   "cell_type": "code",
   "execution_count": 204,
   "id": "e5bf4cc1-3bb2-4fda-acf2-9810883b3956",
   "metadata": {},
   "outputs": [
    {
     "data": {
      "text/plain": [
       "8"
      ]
     },
     "execution_count": 204,
     "metadata": {},
     "output_type": "execute_result"
    }
   ],
   "source": [
    "np.searchsorted(arr, 34)"
   ]
  },
  {
   "cell_type": "code",
   "execution_count": 205,
   "id": "31d9d4db-989e-41b9-a8ed-2dcd6c2c63c5",
   "metadata": {},
   "outputs": [],
   "source": [
    "arr1 = np.array([0,343,323,56,0,0,0,0])"
   ]
  },
  {
   "cell_type": "code",
   "execution_count": 207,
   "id": "ebc37c45-892c-4567-9559-1d7dbd8aa944",
   "metadata": {},
   "outputs": [
    {
     "data": {
      "text/plain": [
       "3"
      ]
     },
     "execution_count": 207,
     "metadata": {},
     "output_type": "execute_result"
    }
   ],
   "source": [
    "np.count_nonzero(arr1)"
   ]
  },
  {
   "cell_type": "code",
   "execution_count": 208,
   "id": "78232a76-1414-4a00-bad8-0be42986570d",
   "metadata": {},
   "outputs": [
    {
     "data": {
      "text/plain": [
       "array([  4,   5,   3,   4,   6,   5,   7,   8, 977,  69,   9,   6,   6,\n",
       "         3, 333,  44,  22])"
      ]
     },
     "execution_count": 208,
     "metadata": {},
     "output_type": "execute_result"
    }
   ],
   "source": [
    "arr"
   ]
  },
  {
   "cell_type": "code",
   "execution_count": 209,
   "id": "7f6d6c14-16d0-4e1c-838c-d56573c32478",
   "metadata": {},
   "outputs": [
    {
     "data": {
      "text/plain": [
       "(array([ 6,  7,  8,  9, 10, 14, 15, 16], dtype=int64),)"
      ]
     },
     "execution_count": 209,
     "metadata": {},
     "output_type": "execute_result"
    }
   ],
   "source": [
    "np.where(arr > 6)"
   ]
  },
  {
   "cell_type": "code",
   "execution_count": 210,
   "id": "7706b992-193d-4446-ab3b-ce7b85b4fed9",
   "metadata": {},
   "outputs": [
    {
     "data": {
      "text/plain": [
       "array([  7,   8, 977,  69,   9, 333,  44,  22])"
      ]
     },
     "execution_count": 210,
     "metadata": {},
     "output_type": "execute_result"
    }
   ],
   "source": [
    "np.extract(arr > 6, arr)"
   ]
  },
  {
   "cell_type": "code",
   "execution_count": 211,
   "id": "0c3d43ce-bbd6-410a-b5b8-fb3e27519491",
   "metadata": {},
   "outputs": [],
   "source": [
    "# Numpy -> Byte Swapping"
   ]
  },
  {
   "cell_type": "code",
   "execution_count": 212,
   "id": "e7433da1-da1f-4bd8-9828-290507625c24",
   "metadata": {},
   "outputs": [
    {
     "data": {
      "text/plain": [
       "array([  4,   5,   3,   4,   6,   5,   7,   8, 977,  69,   9,   6,   6,\n",
       "         3, 333,  44,  22])"
      ]
     },
     "execution_count": 212,
     "metadata": {},
     "output_type": "execute_result"
    }
   ],
   "source": [
    "arr"
   ]
  },
  {
   "cell_type": "code",
   "execution_count": 213,
   "id": "cd62ced5-5640-41b8-a31e-ca54d3728a1a",
   "metadata": {},
   "outputs": [
    {
     "data": {
      "text/plain": [
       "array([  67108864,   83886080,   50331648,   67108864,  100663296,\n",
       "         83886080,  117440512,  134217728, -788332544, 1157627904,\n",
       "        150994944,  100663296,  100663296,   50331648, 1291911168,\n",
       "        738197504,  369098752])"
      ]
     },
     "execution_count": 213,
     "metadata": {},
     "output_type": "execute_result"
    }
   ],
   "source": [
    "arr.byteswap()"
   ]
  },
  {
   "cell_type": "code",
   "execution_count": 214,
   "id": "5bf32024-e2e6-424e-9ebc-5dabde624b53",
   "metadata": {},
   "outputs": [],
   "source": [
    "# Numpy -> Copies & Views"
   ]
  },
  {
   "cell_type": "code",
   "execution_count": 215,
   "id": "e9dbb99f-f1dc-4922-ad56-2fc6c338599c",
   "metadata": {},
   "outputs": [
    {
     "data": {
      "text/plain": [
       "array([  4,   5,   3,   4,   6,   5,   7,   8, 977,  69,   9,   6,   6,\n",
       "         3, 333,  44,  22])"
      ]
     },
     "execution_count": 215,
     "metadata": {},
     "output_type": "execute_result"
    }
   ],
   "source": [
    "arr"
   ]
  },
  {
   "cell_type": "code",
   "execution_count": 216,
   "id": "cdad768f-ab8a-4f71-8d65-bfa0a1930533",
   "metadata": {},
   "outputs": [],
   "source": [
    "a = np.copy(arr) # Deep copy"
   ]
  },
  {
   "cell_type": "code",
   "execution_count": 217,
   "id": "4a3b6d2f-7b29-422a-9817-7f769d4b429d",
   "metadata": {},
   "outputs": [
    {
     "data": {
      "text/plain": [
       "array([  4,   5,   3,   4,   6,   5,   7,   8, 977,  69,   9,   6,   6,\n",
       "         3, 333,  44,  22])"
      ]
     },
     "execution_count": 217,
     "metadata": {},
     "output_type": "execute_result"
    }
   ],
   "source": [
    "a"
   ]
  },
  {
   "cell_type": "code",
   "execution_count": 225,
   "id": "66e92afa-6ad0-434b-b38e-fe644b819ef8",
   "metadata": {},
   "outputs": [],
   "source": [
    "b = arr.view() # shallow Copy"
   ]
  },
  {
   "cell_type": "code",
   "execution_count": 226,
   "id": "810c48f0-00a9-4fa5-8f80-5e490863443a",
   "metadata": {},
   "outputs": [
    {
     "data": {
      "text/plain": [
       "array([ 67,   5,   3,   4,   6,   5,   7,   8, 977,  69,   9,   6,   6,\n",
       "         3, 333,  44,  22])"
      ]
     },
     "execution_count": 226,
     "metadata": {},
     "output_type": "execute_result"
    }
   ],
   "source": [
    "b "
   ]
  },
  {
   "cell_type": "code",
   "execution_count": 220,
   "id": "908057c4-1507-44e2-894a-80fc15ac3f5f",
   "metadata": {},
   "outputs": [],
   "source": [
    "b[0] = 67"
   ]
  },
  {
   "cell_type": "code",
   "execution_count": 221,
   "id": "3483c001-b345-4676-a740-6fdad4773b1d",
   "metadata": {},
   "outputs": [
    {
     "data": {
      "text/plain": [
       "array([ 67,   5,   3,   4,   6,   5,   7,   8, 977,  69,   9,   6,   6,\n",
       "         3, 333,  44,  22])"
      ]
     },
     "execution_count": 221,
     "metadata": {},
     "output_type": "execute_result"
    }
   ],
   "source": [
    "b"
   ]
  },
  {
   "cell_type": "code",
   "execution_count": 222,
   "id": "c0d5c833-92da-4512-8069-c1e078a004db",
   "metadata": {},
   "outputs": [
    {
     "data": {
      "text/plain": [
       "array([ 67,   5,   3,   4,   6,   5,   7,   8, 977,  69,   9,   6,   6,\n",
       "         3, 333,  44,  22])"
      ]
     },
     "execution_count": 222,
     "metadata": {},
     "output_type": "execute_result"
    }
   ],
   "source": [
    "arr"
   ]
  },
  {
   "cell_type": "code",
   "execution_count": 227,
   "id": "69936cde-bd98-409a-88a3-8b43328f2f16",
   "metadata": {},
   "outputs": [],
   "source": [
    "# Numpy -> Matrix library"
   ]
  },
  {
   "cell_type": "code",
   "execution_count": 228,
   "id": "70d9e04f-82ad-450f-b0d7-12a6f327e362",
   "metadata": {},
   "outputs": [],
   "source": [
    "import numpy.matlib as nm"
   ]
  },
  {
   "cell_type": "code",
   "execution_count": 229,
   "id": "06561bba-da30-4b34-9dd8-be9e9fdb1117",
   "metadata": {},
   "outputs": [
    {
     "data": {
      "text/plain": [
       "matrix([[0., 0., 0., 0., 0.]])"
      ]
     },
     "execution_count": 229,
     "metadata": {},
     "output_type": "execute_result"
    }
   ],
   "source": [
    "nm.zeros(5)"
   ]
  },
  {
   "cell_type": "code",
   "execution_count": 230,
   "id": "099da309-a6c0-4ee3-8a38-4ef2cb18b1e4",
   "metadata": {},
   "outputs": [
    {
     "data": {
      "text/plain": [
       "matrix([[1., 1., 1., 1.],\n",
       "        [1., 1., 1., 1.],\n",
       "        [1., 1., 1., 1.]])"
      ]
     },
     "execution_count": 230,
     "metadata": {},
     "output_type": "execute_result"
    }
   ],
   "source": [
    "nm.ones((3,4))"
   ]
  },
  {
   "cell_type": "code",
   "execution_count": 231,
   "id": "1730cb24-326f-45e1-9d87-a8cdd9d0588a",
   "metadata": {},
   "outputs": [
    {
     "data": {
      "text/plain": [
       "matrix([[1., 0., 0., 0., 0.],\n",
       "        [0., 1., 0., 0., 0.],\n",
       "        [0., 0., 1., 0., 0.],\n",
       "        [0., 0., 0., 1., 0.],\n",
       "        [0., 0., 0., 0., 1.]])"
      ]
     },
     "execution_count": 231,
     "metadata": {},
     "output_type": "execute_result"
    }
   ],
   "source": [
    "nm.eye(5)"
   ]
  },
  {
   "cell_type": "code",
   "execution_count": 232,
   "id": "8989e6b1-7969-4b1d-b440-ce033166ecab",
   "metadata": {},
   "outputs": [],
   "source": [
    "# Numpy -> Linear Algebra"
   ]
  },
  {
   "cell_type": "code",
   "execution_count": 233,
   "id": "4aee5549-97a8-4d1c-912a-7fac9894256d",
   "metadata": {},
   "outputs": [],
   "source": [
    "arr1 = np.random.randint([[2,3], [4,5]])"
   ]
  },
  {
   "cell_type": "code",
   "execution_count": 234,
   "id": "dac09378-cecb-4e41-b438-62a62db6dab0",
   "metadata": {},
   "outputs": [],
   "source": [
    "arr2 = np.random.randint([[5,3], [2,5]])"
   ]
  },
  {
   "cell_type": "code",
   "execution_count": 235,
   "id": "a4cce964-2fb8-41fd-8afc-a1d7693f88f0",
   "metadata": {},
   "outputs": [
    {
     "data": {
      "text/plain": [
       "array([[0, 4],\n",
       "       [0, 8]])"
      ]
     },
     "execution_count": 235,
     "metadata": {},
     "output_type": "execute_result"
    }
   ],
   "source": [
    "np.dot(arr1,arr2)"
   ]
  },
  {
   "cell_type": "code",
   "execution_count": 236,
   "id": "4f04ca80-fba7-4b68-b0b4-4d6e744e062a",
   "metadata": {},
   "outputs": [
    {
     "data": {
      "text/plain": [
       "array([[0, 4],\n",
       "       [0, 8]])"
      ]
     },
     "execution_count": 236,
     "metadata": {},
     "output_type": "execute_result"
    }
   ],
   "source": [
    "arr1@arr2"
   ]
  },
  {
   "cell_type": "code",
   "execution_count": null,
   "id": "a9be55c4-c6d4-4c80-84da-5814233a9134",
   "metadata": {},
   "outputs": [],
   "source": []
  }
 ],
 "metadata": {
  "kernelspec": {
   "display_name": "Python 3 (ipykernel)",
   "language": "python",
   "name": "python3"
  },
  "language_info": {
   "codemirror_mode": {
    "name": "ipython",
    "version": 3
   },
   "file_extension": ".py",
   "mimetype": "text/x-python",
   "name": "python",
   "nbconvert_exporter": "python",
   "pygments_lexer": "ipython3",
   "version": "3.12.7"
  }
 },
 "nbformat": 4,
 "nbformat_minor": 5
}
